{
 "cells": [
  {
   "cell_type": "markdown",
   "id": "22065bf7",
   "metadata": {},
   "source": [
    "# Python Functions 📚\n",
    "\n",
    "## Table of Contents\n",
    "1. [Introduction to Functions](#introduction-to-functions)\n",
    "2. [User Defined Functions (UDFs)](#user-defined-functions-udfs)\n",
    "3. [Function Arguments](#function-arguments)\n",
    "4. [Lambda Functions](#lambda-functions)\n",
    "5. [Recursive Functions](#recursive-functions)\n",
    "6. [Practice Examples](#practice-examples)\n",
    "\n",
    "---\n",
    "\n",
    "## Introduction to Functions\n",
    "\n",
    "A **function** is a reusable block of code that performs a specific task. Functions help us:\n",
    "- 📦 Organize code into manageable pieces\n",
    "- 🔄 Reuse code without repetition\n",
    "- 🐛 Debug and maintain code more easily\n",
    "- 📊 Make programs more modular\n",
    "\n",
    "### Basic Function Structure\n",
    "\n",
    "```python\n",
    "def function_name(parameters):\n",
    "    \"\"\"Function documentation\"\"\"\n",
    "    # Function body\n",
    "    # Code to execute\n",
    "    return result  # Optional\n",
    "```\n",
    "\n",
    "---\n",
    "\n",
    "## User Defined Functions (UDFs)\n",
    "\n",
    "These are functions created by programmers to solve specific problems.\n",
    "\n",
    "### Example 1: Basic Calculator Function"
   ]
  },
  {
   "cell_type": "code",
   "execution_count": 1,
   "id": "9ec373f2",
   "metadata": {},
   "outputs": [
    {
     "name": "stdout",
     "output_type": "stream",
     "text": [
      "Addition: 10 + 20 = 30\n",
      "Subtraction: 10 - 20 = -10\n",
      "Division: 10 / 30 = 0.3333333333333333\n",
      "**********\n",
      "Addition: 100 + 200 = 300\n",
      "Subtraction: 100 - 200 = -100\n",
      "Division: 100 / 300 = 0.3333333333333333\n",
      "**********\n",
      "Addition: 65 + 947 = 1012\n",
      "Subtraction: 65 - 947 = -882\n",
      "Division: 65 / 684 = 0.09502923976608187\n"
     ]
    }
   ],
   "source": [
    "def calculator(a, b, c):\n",
    "    \"\"\"\n",
    "    A simple calculator that performs basic operations\n",
    "    Parameters: a, b, c - numbers for calculations\n",
    "    \"\"\"\n",
    "    add = a + b\n",
    "    print(f\"Addition: {a} + {b} = {add}\")\n",
    "    \n",
    "    sub = a - b\n",
    "    print(f\"Subtraction: {a} - {b} = {sub}\")\n",
    "    \n",
    "    div = a / c\n",
    "    print(f\"Division: {a} / {c} = {div}\")\n",
    "\n",
    "# Calling the function with different values\n",
    "calculator(10, 20, 30)\n",
    "print('*' * 10)\n",
    "calculator(100, 200, 300)\n",
    "print('*' * 10)\n",
    "calculator(65, 947, 684)"
   ]
  },
  {
   "cell_type": "markdown",
   "id": "e866a5ae",
   "metadata": {},
   "source": [
    "### 📊 Function Flow Visualization\n",
    "\n",
    "```\n",
    "Input (a, b, c) → [Function Processing] → Output (Results)\n",
    "     ↓                    ↓                     ↓\n",
    "  (10, 20, 30)    Add, Subtract, Divide    30, -10, 0.33\n",
    "```\n",
    "\n",
    "---\n",
    "\n",
    "## Function Arguments\n",
    "\n",
    "### 1. Positional Arguments ➡️\n",
    "\n",
    "Arguments passed in the exact order as defined in the function.\n",
    "\n",
    "**Key Point:** The position of arguments changes the result!"
   ]
  },
  {
   "cell_type": "code",
   "execution_count": 2,
   "id": "8514ee2f",
   "metadata": {},
   "outputs": [
    {
     "name": "stdout",
     "output_type": "stream",
     "text": [
      "100\n",
      "1024\n"
     ]
    }
   ],
   "source": [
    "def exp(a, b):\n",
    "    \"\"\"Calculate a raised to power b\"\"\"\n",
    "    result = a ** b\n",
    "    return result\n",
    "\n",
    "# Order matters!\n",
    "print(exp(10, 2))  # 10^2 = 100\n",
    "print(exp(2, 10))  # 2^10 = 1024"
   ]
  },
  {
   "cell_type": "markdown",
   "id": "e75e9ef5",
   "metadata": {},
   "source": [
    "### 2. Keyword Arguments 🔑\n",
    "\n",
    "Arguments passed with parameter names, order doesn't matter."
   ]
  },
  {
   "cell_type": "code",
   "execution_count": 3,
   "id": "f51573d5",
   "metadata": {},
   "outputs": [
    {
     "name": "stdout",
     "output_type": "stream",
     "text": [
      "100\n"
     ]
    }
   ],
   "source": [
    "def exp(a, b):\n",
    "    \"\"\"Calculate a raised to power b using keyword arguments\"\"\"\n",
    "    result = a ** b\n",
    "    return result\n",
    "\n",
    "# Order doesn't matter with keywords!\n",
    "print(exp(a=10, b=2))  # 10^2 = 100"
   ]
  },
  {
   "cell_type": "markdown",
   "id": "612577a0",
   "metadata": {},
   "source": [
    "### Comparison Table\n",
    "\n",
    "| Type | Example | Order Matters? | Use Case |\n",
    "|------|---------|---------------|----------|\n",
    "| Positional | `exp(10, 2)` | ✅ Yes | When order is intuitive |\n",
    "| Keyword | `exp(a=10, b=2)` | ❌ No | When clarity is needed |\n",
    "\n",
    "### 3. Variable Length Arguments (*args) 📦\n",
    "\n",
    "Accept any number of positional arguments."
   ]
  },
  {
   "cell_type": "code",
   "execution_count": 4,
   "id": "82b89de0",
   "metadata": {},
   "outputs": [
    {
     "name": "stdout",
     "output_type": "stream",
     "text": [
      "Arguments received: (10, 20)\n",
      "Sum: 30\n",
      "Arguments received: (10, 20, 30)\n",
      "Sum: 60\n",
      "Arguments received: (10, 20, 30, 40)\n",
      "Sum: 100\n"
     ]
    }
   ],
   "source": [
    "def addnum(*a):\n",
    "    \"\"\"Add any number of arguments\"\"\"\n",
    "    print(f\"Arguments received: {a}\")\n",
    "    print(f\"Sum: {sum(a)}\")\n",
    "\n",
    "# Examples with different numbers of arguments\n",
    "addnum(10, 20)        # Works with 2 args\n",
    "addnum(10, 20, 30)    # Works with 3 args\n",
    "addnum(10, 20, 30, 40)  # Works with 4 args"
   ]
  },
  {
   "cell_type": "markdown",
   "id": "85463834",
   "metadata": {},
   "source": [
    "### 4. Variable Length Keyword Arguments (**kwargs) 🗂️\n",
    "\n",
    "Accept any number of keyword arguments."
   ]
  },
  {
   "cell_type": "code",
   "execution_count": null,
   "id": "7af16436",
   "metadata": {},
   "outputs": [],
   "source": [
    "def data(**a):\n",
    "    \"\"\"Accept any keyword arguments\"\"\"\n",
    "    print(f\"Data received: {a}\")\n",
    "\n",
    "# Examples\n",
    "data()                    # Empty dictionary\n",
    "data(a=10, b=20)         # {'a': 10, 'b': 20}\n",
    "data(a=10, b=20, c=30)   # {'a': 10, 'b': 20, 'c': 30}"
   ]
  },
  {
   "cell_type": "markdown",
   "id": "4b16fcee",
   "metadata": {},
   "source": [
    "---\n",
    "## Types of Functions\n",
    "\n",
    "1. User Defined Functions (UDFs)\n",
    "2. Builtin Functions \n",
    "3. Lambda Functions / Lambda Expressions\n",
    "4. Recurssive Functions\n",
    "\n",
    "---\n",
    "\n",
    "## Lambda Functions\n",
    "\n",
    "Lambda functions are **anonymous, single-line functions** for simple operations.\n",
    "\n",
    "### Syntax\n",
    "```python\n",
    "lambda arguments: expression\n",
    "```\n",
    "\n",
    "### Traditional Function vs Lambda\n",
    "\n",
    "#### Traditional Function:\n",
    "```python\n",
    "def calc(a, b):\n",
    "    c = a + b\n",
    "    return c\n",
    "\n",
    "print(calc(65, 64))  # 129\n",
    "```\n",
    "\n",
    "#### Lambda Equivalent:\n",
    "```python\n",
    "res = (lambda a, b: a + b)(65, 64)\n",
    "print(res)  # 129\n",
    "```\n",
    "\n",
    "### Lambda Examples\n",
    "\n",
    "#### 1. Temperature Converter 🌡️"
   ]
  },
  {
   "cell_type": "code",
   "execution_count": null,
   "id": "c971f031",
   "metadata": {},
   "outputs": [],
   "source": [
    "# Convert Celsius to Fahrenheit\n",
    "celsius_to_fahrenheit = lambda celsius: (celsius * (9/5)) + 32\n",
    "\n",
    "print(celsius_to_fahrenheit(69))  # 156.2°F\n",
    "print(celsius_to_fahrenheit(70))  # 158.0°F"
   ]
  },
  {
   "cell_type": "markdown",
   "id": "ba85c83c",
   "metadata": {},
   "source": [
    "#### 2. Find Largest Number 🔍"
   ]
  },
  {
   "cell_type": "code",
   "execution_count": null,
   "id": "87fba487",
   "metadata": {},
   "outputs": [],
   "source": [
    "# Find the larger of two numbers\n",
    "largest = (lambda x, y: x if x > y else y)(9864, 6843)\n",
    "print(largest)  # 9864"
   ]
  },
  {
   "cell_type": "markdown",
   "id": "78fd80cb",
   "metadata": {},
   "source": [
    "#### 3. Conditional Lambda"
   ]
  },
  {
   "cell_type": "code",
   "execution_count": null,
   "id": "86023daa",
   "metadata": {},
   "outputs": [],
   "source": [
    "# Print based on comparison\n",
    "(lambda a, b: print(f\"{a} is greater\") if a > b else print(f\"{b} is greater\"))(10, 2)"
   ]
  },
  {
   "cell_type": "markdown",
   "id": "43024f4c",
   "metadata": {},
   "source": [
    "## Recursive Functions\n",
    "\n",
    "A function that **calls itself** to solve smaller instances of the same problem.\n",
    "\n",
    "### Factorial Example - Two Approaches\n",
    "\n",
    "#### Approach 1: Without Recursion (Iterative)"
   ]
  },
  {
   "cell_type": "code",
   "execution_count": null,
   "id": "7cb53469",
   "metadata": {},
   "outputs": [],
   "source": [
    "def factorial_iterative(num):\n",
    "    \"\"\"Calculate factorial using iteration\"\"\"\n",
    "    result = 1\n",
    "    while num >= 1:\n",
    "        result = result * num\n",
    "        num = num - 1\n",
    "    return result\n",
    "\n",
    "num = 5\n",
    "res = factorial_iterative(num)\n",
    "print(f'The factorial of {num} is {res}')  # 120"
   ]
  },
  {
   "cell_type": "markdown",
   "id": "7057c981",
   "metadata": {},
   "source": [
    "#### Approach 2: With Recursion"
   ]
  },
  {
   "cell_type": "code",
   "execution_count": 5,
   "id": "ab5f7a83",
   "metadata": {},
   "outputs": [
    {
     "name": "stdout",
     "output_type": "stream",
     "text": [
      "The factorial of 5 is 120\n"
     ]
    }
   ],
   "source": [
    "def factorial_recursive(n):\n",
    "    \"\"\"Calculate factorial using recursion\"\"\"\n",
    "    if n == 0:\n",
    "        result = 1\n",
    "    else:\n",
    "        result = n * factorial_recursive(n - 1)\n",
    "    return result\n",
    "\n",
    "n = 5\n",
    "res = factorial_recursive(n)\n",
    "print(f'The factorial of {n} is {res}')  # 120"
   ]
  },
  {
   "cell_type": "markdown",
   "id": "f4ee3114",
   "metadata": {},
   "source": [
    "### 📈 Recursion Visualization for factorial(5)\n",
    "\n",
    "```\n",
    "factorial(5)\n",
    "    ├── 5 * factorial(4)\n",
    "    │   ├── 4 * factorial(3)\n",
    "    │   │   ├── 3 * factorial(2)\n",
    "    │   │   │   ├── 2 * factorial(1)\n",
    "    │   │   │   │   ├── 1 * factorial(0)\n",
    "    │   │   │   │   │   └── 1\n",
    "    │   │   │   │   └── 1 * 1 = 1\n",
    "    │   │   │   └── 2 * 1 = 2\n",
    "    │   │   └── 3 * 2 = 6\n",
    "    │   └── 4 * 6 = 24\n",
    "    └── 5 * 24 = 120\n",
    "```\n",
    "\n",
    "### Pattern Printing with Recursion"
   ]
  },
  {
   "cell_type": "code",
   "execution_count": 6,
   "id": "efaef42b",
   "metadata": {},
   "outputs": [
    {
     "name": "stdout",
     "output_type": "stream",
     "text": [
      " * \n",
      " *  * \n",
      " *  *  * \n",
      " *  *  *  * \n",
      " *  *  *  *  * \n"
     ]
    }
   ],
   "source": [
    "def print_pattern(n):\n",
    "    \"\"\"Print star pattern using recursion\"\"\"\n",
    "    if n > 1:\n",
    "        print_pattern(n - 1)\n",
    "    \n",
    "    for i in range(n):\n",
    "        print(\" * \", end=\"\")\n",
    "    print()\n",
    "\n",
    "print_pattern(5)"
   ]
  },
  {
   "cell_type": "markdown",
   "id": "f4d40f55",
   "metadata": {},
   "source": [
    "## Practice Examples\n",
    "\n",
    "### Example 1: Welcome Message Function"
   ]
  },
  {
   "cell_type": "code",
   "execution_count": 7,
   "id": "fa29f05c",
   "metadata": {},
   "outputs": [
    {
     "name": "stdout",
     "output_type": "stream",
     "text": [
      "Hi Suhas, welcome to Python Programming!\n",
      "Hi Sandesh, welcome to Python Programming!\n"
     ]
    }
   ],
   "source": [
    "def welcome(name):\n",
    "    \"\"\"Print personalized welcome message\"\"\"\n",
    "    print(f\"Hi {name}, welcome to Python Programming!\")\n",
    "\n",
    "welcome(\"Suhas\")\n",
    "welcome(\"Sandesh\")"
   ]
  },
  {
   "cell_type": "markdown",
   "id": "2dec99b7",
   "metadata": {},
   "source": [
    "### Example 2: Conditional Greetings"
   ]
  },
  {
   "cell_type": "code",
   "execution_count": 8,
   "id": "b84d677c",
   "metadata": {},
   "outputs": [
    {
     "name": "stdout",
     "output_type": "stream",
     "text": [
      "Hi, Good morning! ☀️\n",
      "Hi, Good afternoon! 🌤️\n",
      "Hi, Good night! 🌙\n",
      "Hi Dinesh, welcome to Python class! 👋\n"
     ]
    }
   ],
   "source": [
    "def greetings(name):\n",
    "    \"\"\"Print different greetings based on name\"\"\"\n",
    "    if name.lower() == \"kumar\":\n",
    "        print(\"Hi, Good morning! ☀️\")\n",
    "    elif name.lower() == \"suhas\":\n",
    "        print(\"Hi, Good afternoon! 🌤️\")\n",
    "    elif name.lower() == \"kiran\":\n",
    "        print(\"Hi, Good night! 🌙\")\n",
    "    else:\n",
    "        print(f\"Hi {name}, welcome to Python class! 👋\")\n",
    "\n",
    "# Test the function\n",
    "greetings(\"Kumar\")\n",
    "greetings(\"Suhas\")\n",
    "greetings(\"Kiran\")\n",
    "greetings(\"Dinesh\")"
   ]
  },
  {
   "cell_type": "markdown",
   "id": "fb531183",
   "metadata": {},
   "source": [
    "### Example 3: Palindrome Checker"
   ]
  },
  {
   "cell_type": "code",
   "execution_count": 9,
   "id": "e7c9612e",
   "metadata": {},
   "outputs": [
    {
     "name": "stdout",
     "output_type": "stream",
     "text": [
      "'MALAYALAM' is a palindrome! ✅\n",
      "'python' is not a palindrome. ❌\n",
      "'MOM' is a palindrome! ✅\n"
     ]
    }
   ],
   "source": [
    "def palindrome_check(word):\n",
    "    \"\"\"Check if a word is palindrome\"\"\"\n",
    "    if word.lower() == word.lower()[::-1]:\n",
    "        print(f\"'{word}' is a palindrome! ✅\")\n",
    "    else:\n",
    "        print(f\"'{word}' is not a palindrome. ❌\")\n",
    "\n",
    "# Test cases\n",
    "palindrome_check(\"MALAYALAM\")  # Palindrome ✅\n",
    "palindrome_check(\"python\")     # Not palindrome ❌\n",
    "palindrome_check(\"MOM\")        # Palindrome ✅"
   ]
  },
  {
   "cell_type": "markdown",
   "id": "8b3bd394",
   "metadata": {},
   "source": [
    "## 📝 Summary\n",
    "\n",
    "| Concept | Key Points | When to Use |\n",
    "|---------|------------|-------------|\n",
    "| **Functions** | Reusable code blocks | When you need to repeat code |\n",
    "| **Positional Args** | Order matters | Simple, ordered parameters |\n",
    "| **Keyword Args** | Order doesn't matter | Complex functions with many parameters |\n",
    "| **Variable Args** | Accept any number | When parameter count varies |\n",
    "| **Lambda** | One-line functions | Simple operations |\n",
    "| **Recursion** | Function calls itself | Tree-like problems, mathematical sequences |\n",
    "\n",
    "## 🎯 Quick Tips\n",
    "\n",
    "1. **Start Simple**: Begin with basic functions before moving to complex ones\n",
    "2. **Practice Return vs Print**: Understand when to return values vs printing them\n",
    "3. **Use Descriptive Names**: Name functions based on what they do\n",
    "4. **Document Your Functions**: Always add comments explaining the purpose\n",
    "5. **Test with Different Inputs**: Try edge cases and various input types\n",
    "6. **Master One Concept at a Time**: Don't rush through all types of arguments\n",
    "\n",
    "## 🚀 Challenge Yourself\n",
    "\n",
    "Try creating functions that:\n",
    "- Calculate compound interest\n",
    "- Check if a number is prime\n",
    "- Generate Fibonacci sequence\n",
    "- Convert between different units\n",
    "- Validate email addresses\n",
    "\n",
    "---"
   ]
  }
 ],
 "metadata": {
  "kernelspec": {
   "display_name": "Python 3",
   "language": "python",
   "name": "python3"
  },
  "language_info": {
   "codemirror_mode": {
    "name": "ipython",
    "version": 3
   },
   "file_extension": ".py",
   "mimetype": "text/x-python",
   "name": "python",
   "nbconvert_exporter": "python",
   "pygments_lexer": "ipython3",
   "version": "3.13.7"
  }
 },
 "nbformat": 4,
 "nbformat_minor": 5
}
