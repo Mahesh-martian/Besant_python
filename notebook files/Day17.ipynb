{
 "cells": [
  {
   "cell_type": "markdown",
   "id": "d776e713",
   "metadata": {},
   "source": [
    "## polymorphism"
   ]
  },
  {
   "cell_type": "markdown",
   "id": "90114580",
   "metadata": {},
   "source": [
    "### Method overloading"
   ]
  },
  {
   "cell_type": "code",
   "execution_count": 9,
   "id": "84e35166",
   "metadata": {},
   "outputs": [
    {
     "name": "stdout",
     "output_type": "stream",
     "text": [
      "100\n"
     ]
    }
   ],
   "source": [
    "class Calculator:\n",
    "\n",
    "    def add(self,a,b):\n",
    "        print(a+b)\n",
    "\n",
    "    def add(self,a,b,c):\n",
    "        print(a+b+c)\n",
    "\n",
    "    def add(self,a,b,c,d):\n",
    "        print(a+b+c+d)\n",
    "\n",
    "calc = Calculator()\n",
    "calc.add(10,20,30,40)"
   ]
  },
  {
   "cell_type": "markdown",
   "id": "aa483462",
   "metadata": {},
   "source": [
    "### Method overriding"
   ]
  },
  {
   "cell_type": "code",
   "execution_count": 10,
   "id": "61876a08",
   "metadata": {},
   "outputs": [
    {
     "name": "stdout",
     "output_type": "stream",
     "text": [
      "I phone\n",
      "appartment\n",
      "modified maruthi 800\n"
     ]
    }
   ],
   "source": [
    "class Parent:\n",
    "    def car(self):\n",
    "        print(\"maruthi 800\")\n",
    "\n",
    "    def land(self):\n",
    "        print(\"doing agriculture\")\n",
    "\n",
    "class child(Parent):\n",
    "    def mobile(self):\n",
    "        print(\"I phone\")\n",
    "\n",
    "    def land(self):\n",
    "        print(\"appartment\")\n",
    "\n",
    "    def car(self):\n",
    "        print(\"modified maruthi 800\")\n",
    "\n",
    "c1 = child()\n",
    "c1.mobile()\n",
    "c1.land()\n",
    "c1.car()"
   ]
  },
  {
   "cell_type": "markdown",
   "id": "61291988",
   "metadata": {},
   "source": [
    "### operator overloading"
   ]
  },
  {
   "cell_type": "code",
   "execution_count": null,
   "id": "e02104f1",
   "metadata": {},
   "outputs": [
    {
     "name": "stdout",
     "output_type": "stream",
     "text": [
      "1450\n",
      "harry potter\n"
     ]
    }
   ],
   "source": [
    "class book:\n",
    "\n",
    "    def __init__(self, name, price):\n",
    "        self.name = name\n",
    "        self.price = price\n",
    "\n",
    "    def __add__(self,other):\n",
    "        return self.price + other.price\n",
    "    \n",
    "    def __str__(self):\n",
    "        return self.name \n",
    "    \n",
    "b1 = book('harry potter', 1000)\n",
    "b2 = book('Rich dad poor dad', 450)\n",
    "print(b1+b2)\n",
    "print(b1)"
   ]
  }
 ],
 "metadata": {
  "kernelspec": {
   "display_name": "Python 3",
   "language": "python",
   "name": "python3"
  },
  "language_info": {
   "codemirror_mode": {
    "name": "ipython",
    "version": 3
   },
   "file_extension": ".py",
   "mimetype": "text/x-python",
   "name": "python",
   "nbconvert_exporter": "python",
   "pygments_lexer": "ipython3",
   "version": "3.13.9"
  }
 },
 "nbformat": 4,
 "nbformat_minor": 5
}
