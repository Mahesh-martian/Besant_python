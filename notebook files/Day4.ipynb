{
 "cells": [
  {
   "cell_type": "markdown",
   "id": "54148c50",
   "metadata": {},
   "source": [
    "# 🧮 Python Operators\n",
    "\n",
    "Operators are symbols that perform operations on operands."
   ]
  },
  {
   "cell_type": "markdown",
   "id": "4b9b98cf",
   "metadata": {},
   "source": [
    "# 🔢 Assignment Operators"
   ]
  },
  {
   "cell_type": "code",
   "execution_count": null,
   "id": "79f3437f",
   "metadata": {},
   "outputs": [],
   "source": [
    "a = 10\n",
    "b = 20\n",
    "print(a + b)"
   ]
  },
  {
   "cell_type": "code",
   "execution_count": null,
   "id": "11673a31",
   "metadata": {},
   "outputs": [],
   "source": [
    "print(a - b)"
   ]
  },
  {
   "cell_type": "code",
   "execution_count": null,
   "id": "4d86a182",
   "metadata": {},
   "outputs": [],
   "source": [
    "print(a / b)"
   ]
  },
  {
   "cell_type": "code",
   "execution_count": null,
   "id": "c970bd3b",
   "metadata": {},
   "outputs": [],
   "source": [
    "print(a * b)"
   ]
  },
  {
   "cell_type": "code",
   "execution_count": null,
   "id": "94ca7892",
   "metadata": {},
   "outputs": [],
   "source": [
    "print(a ** b)"
   ]
  },
  {
   "cell_type": "code",
   "execution_count": null,
   "id": "fc2133e4",
   "metadata": {},
   "outputs": [],
   "source": [
    "print(a // b)"
   ]
  },
  {
   "cell_type": "code",
   "execution_count": null,
   "id": "5562ed1d",
   "metadata": {},
   "outputs": [],
   "source": [
    "print(b % a)"
   ]
  },
  {
   "cell_type": "markdown",
   "id": "ef3f9173",
   "metadata": {},
   "source": [
    "# 🔄 Comparison Operators"
   ]
  },
  {
   "cell_type": "code",
   "execution_count": null,
   "id": "3d54cf82",
   "metadata": {},
   "outputs": [],
   "source": [
    "a = 10\n",
    "b = 20\n",
    "c = 10\n",
    "print(a < b)"
   ]
  },
  {
   "cell_type": "code",
   "execution_count": null,
   "id": "d55d4a00",
   "metadata": {},
   "outputs": [],
   "source": [
    "print(a > b)"
   ]
  },
  {
   "cell_type": "code",
   "execution_count": null,
   "id": "a2391117",
   "metadata": {},
   "outputs": [],
   "source": [
    "print(a <= b)"
   ]
  },
  {
   "cell_type": "code",
   "execution_count": null,
   "id": "2be9e88b",
   "metadata": {},
   "outputs": [],
   "source": [
    "print(a >= b)"
   ]
  },
  {
   "cell_type": "code",
   "execution_count": null,
   "id": "615ee2f5",
   "metadata": {},
   "outputs": [],
   "source": [
    "print(a <= c)"
   ]
  },
  {
   "cell_type": "code",
   "execution_count": null,
   "id": "3fc3e7c6",
   "metadata": {},
   "outputs": [],
   "source": [
    "print(a >= c)"
   ]
  },
  {
   "cell_type": "markdown",
   "id": "dbfb0dcd",
   "metadata": {},
   "source": [
    "# ⚖️ Equality Operators"
   ]
  },
  {
   "cell_type": "code",
   "execution_count": null,
   "id": "ad77a38b",
   "metadata": {},
   "outputs": [],
   "source": [
    "a = 10\n",
    "b = 20\n",
    "print(a == b)"
   ]
  },
  {
   "cell_type": "code",
   "execution_count": null,
   "id": "97679a62",
   "metadata": {},
   "outputs": [],
   "source": [
    "print(b != a)"
   ]
  },
  {
   "cell_type": "markdown",
   "id": "e195d4c5",
   "metadata": {},
   "source": [
    "# 🧠 Logical Operators"
   ]
  },
  {
   "cell_type": "code",
   "execution_count": null,
   "id": "d4b650a1",
   "metadata": {},
   "outputs": [],
   "source": [
    "print(True and True)"
   ]
  },
  {
   "cell_type": "code",
   "execution_count": null,
   "id": "1824f38c",
   "metadata": {},
   "outputs": [],
   "source": [
    "print(True and False)"
   ]
  },
  {
   "cell_type": "code",
   "execution_count": null,
   "id": "ed746142",
   "metadata": {},
   "outputs": [],
   "source": [
    "print(False and True)"
   ]
  },
  {
   "cell_type": "code",
   "execution_count": null,
   "id": "d85fbd41",
   "metadata": {},
   "outputs": [],
   "source": [
    "print(False and False)"
   ]
  },
  {
   "cell_type": "code",
   "execution_count": null,
   "id": "d7bc493e",
   "metadata": {},
   "outputs": [],
   "source": [
    "print(True or True)"
   ]
  },
  {
   "cell_type": "code",
   "execution_count": null,
   "id": "21dc1929",
   "metadata": {},
   "outputs": [],
   "source": [
    "print(True or False)"
   ]
  },
  {
   "cell_type": "code",
   "execution_count": null,
   "id": "8f89f5c9",
   "metadata": {},
   "outputs": [],
   "source": [
    "print(False or True)"
   ]
  },
  {
   "cell_type": "code",
   "execution_count": null,
   "id": "e2d2369d",
   "metadata": {},
   "outputs": [],
   "source": [
    "print(False or False)"
   ]
  },
  {
   "cell_type": "code",
   "execution_count": null,
   "id": "01affd5b",
   "metadata": {},
   "outputs": [],
   "source": [
    "print(not True)"
   ]
  },
  {
   "cell_type": "code",
   "execution_count": null,
   "id": "d30129da",
   "metadata": {},
   "outputs": [],
   "source": [
    "print(not False)"
   ]
  },
  {
   "cell_type": "markdown",
   "id": "d8f50d98",
   "metadata": {},
   "source": [
    "# 🔄 Compound Assignment Operators"
   ]
  },
  {
   "cell_type": "code",
   "execution_count": null,
   "id": "7fa23f67",
   "metadata": {},
   "outputs": [],
   "source": [
    "print('Before incrementation')\n",
    "a = 10\n",
    "print(a)\n",
    "a += 1\n",
    "print('After incrementation')\n",
    "print(a)"
   ]
  },
  {
   "cell_type": "markdown",
   "id": "af10870d",
   "metadata": {},
   "source": [
    "# 🔍 Membership Operators"
   ]
  },
  {
   "cell_type": "code",
   "execution_count": null,
   "id": "57001499",
   "metadata": {},
   "outputs": [],
   "source": [
    "name = 'Python'\n",
    "print('P' in name)"
   ]
  },
  {
   "cell_type": "code",
   "execution_count": null,
   "id": "430831cd",
   "metadata": {},
   "outputs": [],
   "source": [
    "print('z' not in name)"
   ]
  },
  {
   "cell_type": "code",
   "execution_count": null,
   "id": "4a08a330",
   "metadata": {},
   "outputs": [],
   "source": [
    "print('p' in name)"
   ]
  },
  {
   "cell_type": "markdown",
   "id": "bcc24a61",
   "metadata": {},
   "source": [
    "# 🆔 Identity Operators"
   ]
  },
  {
   "cell_type": "code",
   "execution_count": null,
   "id": "d99ddb00",
   "metadata": {},
   "outputs": [],
   "source": [
    "a = 10\n",
    "b = 20\n",
    "print(a is 10)"
   ]
  },
  {
   "cell_type": "code",
   "execution_count": null,
   "id": "c42c347b",
   "metadata": {},
   "outputs": [],
   "source": [
    "print(a is not b)"
   ]
  },
  {
   "cell_type": "code",
   "execution_count": null,
   "id": "e1111098",
   "metadata": {},
   "outputs": [],
   "source": [
    "print(b is 20)"
   ]
  },
  {
   "cell_type": "markdown",
   "id": "d1dc83f3",
   "metadata": {},
   "source": [
    "# 🔄 Swap Two Variables"
   ]
  },
  {
   "cell_type": "code",
   "execution_count": null,
   "id": "6566087c",
   "metadata": {},
   "outputs": [],
   "source": [
    "print('Before swapping')\n",
    "a = 10\n",
    "b = 20\n",
    "print('a =', a)\n",
    "print('b =', b)\n",
    "a, b = b, a\n",
    "print('After swapping')\n",
    "print('a =', a)\n",
    "print('b =', b)"
   ]
  }
 ],
 "metadata": {},
 "nbformat": 4,
 "nbformat_minor": 5
}