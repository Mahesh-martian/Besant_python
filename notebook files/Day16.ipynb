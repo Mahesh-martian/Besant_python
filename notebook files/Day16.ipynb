{
 "cells": [
  {
   "cell_type": "code",
   "execution_count": null,
   "id": "682567fb",
   "metadata": {},
   "outputs": [
    {
     "name": "stdout",
     "output_type": "stream",
     "text": [
      "parent class method1\n",
      "child class method2\n",
      "Iphone\n"
     ]
    }
   ],
   "source": [
    "class Parent:\n",
    "\n",
    "    def m1(self):\n",
    "        self.mobile = \"Iphone\"\n",
    "        print(\"parent class method1\")\n",
    "\n",
    "class child(Parent):\n",
    "    def m2(self):\n",
    "        print(\"child class method2\")\n",
    "\n",
    "c = child()\n",
    "c.m1()\n",
    "c.m2()\n",
    "print(c.mobile)\n"
   ]
  },
  {
   "cell_type": "code",
   "execution_count": 2,
   "id": "7dd9229c",
   "metadata": {},
   "outputs": [
    {
     "name": "stdout",
     "output_type": "stream",
     "text": [
      "Grand parent class method1\n",
      "parent class method2\n",
      "child class method3\n"
     ]
    }
   ],
   "source": [
    "class GrandParent:\n",
    "    def m1(self):\n",
    "        print(\"Grand parent class method1\")\n",
    "\n",
    "\n",
    "class Parent(GrandParent):\n",
    "    def m2(self):\n",
    "        print(\"parent class method2\")\n",
    "\n",
    "class child(Parent):\n",
    "    def m3(self):\n",
    "        print(\"child class method3\")\n",
    "\n",
    "c = child()\n",
    "c.m1()\n",
    "c.m2()\n",
    "c.m3()"
   ]
  },
  {
   "cell_type": "markdown",
   "id": "3d9c9689",
   "metadata": {},
   "source": [
    "            --> child1\n",
    " parent -|\n",
    "            --> child2"
   ]
  },
  {
   "cell_type": "code",
   "execution_count": 3,
   "id": "d0904303",
   "metadata": {},
   "outputs": [
    {
     "name": "stdout",
     "output_type": "stream",
     "text": [
      "child1 class method\n"
     ]
    },
    {
     "ename": "AttributeError",
     "evalue": "'child1' object has no attribute 'cm2'",
     "output_type": "error",
     "traceback": [
      "\u001b[31m---------------------------------------------------------------------------\u001b[39m",
      "\u001b[31mAttributeError\u001b[39m                            Traceback (most recent call last)",
      "\u001b[36mCell\u001b[39m\u001b[36m \u001b[39m\u001b[32mIn[3]\u001b[39m\u001b[32m, line 18\u001b[39m\n\u001b[32m     16\u001b[39m c1 = child1()\n\u001b[32m     17\u001b[39m c1.cm1()\n\u001b[32m---> \u001b[39m\u001b[32m18\u001b[39m \u001b[43mc1\u001b[49m\u001b[43m.\u001b[49m\u001b[43mcm2\u001b[49m()\n",
      "\u001b[31mAttributeError\u001b[39m: 'child1' object has no attribute 'cm2'"
     ]
    }
   ],
   "source": [
    "class Parent:\n",
    "\n",
    "    def m1(self):\n",
    "        print(\"parent class method\")\n",
    "\n",
    "class child1(Parent):\n",
    "\n",
    "    def cm1(self):\n",
    "        print(\"child1 class method\")\n",
    "\n",
    "class child2(Parent):\n",
    "\n",
    "    def cm2(self):\n",
    "        print(\"child2 class method\")\n",
    "\n",
    "c1 = child1()\n",
    "c1.cm1()\n",
    "c1.cm2()\n"
   ]
  },
  {
   "cell_type": "code",
   "execution_count": null,
   "id": "e83df785",
   "metadata": {},
   "outputs": [],
   "source": [
    "class Father:\n",
    "    def m1(self):\n",
    "        print(\"Father class method\")\n",
    "\n",
    "class Mother:\n",
    "    def m2(self):\n",
    "        print(\"mother class method\")\n",
    "\n",
    "class child1(Father,Mother):\n",
    "\n",
    "    def cm1(self):\n",
    "        print(\"child class method\")\n",
    "\n",
    "c1 = child1()\n",
    "c1.m1()\n",
    "c1.m2()\n",
    "c1.cm1()"
   ]
  }
 ],
 "metadata": {
  "kernelspec": {
   "display_name": "Python 3",
   "language": "python",
   "name": "python3"
  },
  "language_info": {
   "codemirror_mode": {
    "name": "ipython",
    "version": 3
   },
   "file_extension": ".py",
   "mimetype": "text/x-python",
   "name": "python",
   "nbconvert_exporter": "python",
   "pygments_lexer": "ipython3",
   "version": "3.13.9"
  }
 },
 "nbformat": 4,
 "nbformat_minor": 5
}
