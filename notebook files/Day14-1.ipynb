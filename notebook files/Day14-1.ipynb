{
 "cells": [
  {
   "cell_type": "markdown",
   "metadata": {},
   "source": [
    "# `self` and `__init__`\n",
    "\n",
    "This notebook walks through the two most fundamental concepts of object‑oriented\n",
    "programming in Python:\n",
    "\n",
    "1. **`self`** – the reference to the *current* instance.\n",
    "2. **`__init__`** – the constructor that runs automatically when an object\n",
    "   is created.\n",
    "\n",
    "Feel free to run the cells one by one to see the output in real time."
   ]
  },
  {
   "cell_type": "markdown",
   "metadata": {},
   "source": [
    "## 1. The `self` variable\n",
    "\n",
    "- **`self` is a parameter** that every instance method receives automatically.\n",
    "- It holds a reference to the object that the method was called on.\n",
    "- Use it to access / modify instance attributes.\n",
    "- It is conventionally named `self`; you *could* use another name, but it would\n",
    "  make the code harder to read.\n",
    "- `self` is *passed automatically* by Python – you never write it explicitly\n",
    "  when calling a method.\n",
    "\n",
    "Below we create a tiny class to demonstrate `self` in action."
   ]
  },
  {
   "cell_type": "code",
   "execution_count": null,
   "metadata": {},
   "outputs": [
    {
     "name": "stdout",
     "output_type": "stream",
     "text": [
      "--- d1 ---\n",
      "this is display1 method\n",
      "self id: 2182371589632\n",
      "d1 id: 2182371589632\n",
      "\n",
      "--- d2 ---\n",
      "this is display1 method\n",
      "self id: 2182371226832\n",
      "d2 id: 2182371226832\n"
     ]
    }
   ],
   "source": [
    "# Demonstrating `self`\n",
    "class Demo:\n",
    "\n",
    "    # constructor method – first param is `self` is mana\n",
    "    def __init__(self):\n",
    "        pass\n",
    "\n",
    "    # Instance method – first param is `self`\n",
    "    def display1(self):\n",
    "    \n",
    "    #   self is the object that calls the method\n",
    "        print(\"this is display1 method\")\n",
    "        print(\"self id:\", id(self))\n",
    "\n",
    "    # You can name the param anything, but it *must* match the call\n",
    "    def display2(self):\n",
    "        print(\"this is display2 method\")\n",
    "        print(\"self id:\", id(self))\n",
    "\n",
    "# Create two objects\n",
    "\n",
    "d1 = Demo()\n",
    "d2 = Demo()\n",
    "\n",
    "# Call the methods – note that the ids printed are the ids of the objects\n",
    "print(\"--- d1 ---\")\n",
    "d1.display1()\n",
    "# d1.display2()\n",
    "print(\"d1 id:\", id(d1))\n",
    "\n",
    "print(\"\\n--- d2 ---\")\n",
    "d2.display1()\n",
    "# d2.display2()\n",
    "print(\"d2 id:\", id(d2))"
   ]
  },
  {
   "cell_type": "markdown",
   "metadata": {},
   "source": [
    "## 2. The constructor – `__init__`\n",
    "\n",
    "- `__init__` is a **special method** called automatically once per object\n",
    "  right after the instance is created.\n",
    "- Its first argument is always `self` – the new object.\n",
    "- It is used to *initialize* instance attributes.\n",
    "- You can give the constructor additional arguments (and defaults). They\n",
    "  become part of the object‑creation signature.\n",
    "- Class attributes (shared by all instances) are defined *outside* of\n",
    "  `__init__`.\n",
    "\n",
    "Below we build a more complete example – a tiny “passport” class."
   ]
  },
  {
   "cell_type": "code",
   "execution_count": null,
   "metadata": {},
   "outputs": [],
   "source": [
    "# Global variable used by all objects\n",
    "glob = \"I am a global variable\"\n",
    "\n",
    "class Demo:\n",
    "    # Class attribute – shared by all instances\n",
    "    nationality = \"Indian\"\n",
    "\n",
    "    def __init__(self, name, age, ph_no, city, state):\n",
    "        # Instance attributes – unique to each object\n",
    "        self.name = name\n",
    "        self.age = age\n",
    "        self.ph_no = ph_no\n",
    "        self.city = city\n",
    "        self.state = state\n",
    "\n",
    "    def display1(self):\n",
    "        print(\"this is display1 method\")\n",
    "        print(\"self id:\", id(self))\n",
    "\n",
    "    def display2(self):\n",
    "        print(\"this is display2 method\")\n",
    "        print(\"self id:\", id(self))\n",
    "\n",
    "    def details(self):\n",
    "        barcode = \"64664+wefcds+64fec\"\n",
    "        print(f\"name: {self.name}\")\n",
    "        print(f\"age: {self.age}\")\n",
    "        print(f\"ph_no: {self.ph_no}\")\n",
    "        print(f\"city: {self.city}\")\n",
    "        print(f\"state: {self.state}\")\n",
    "        # Access the class attribute via the class name\n",
    "        print(f\"nationality: {Demo.nationality}\")\n",
    "        print(barcode)\n",
    "\n",
    "# ---- usage ----\n",
    "\n",
    "# Create two objects with different data\n",
    "person1 = Demo(name=\"Ramesh\", age=26, ph_no=9654754553,\n",
    "               city=\"Bangalore\", state=\"Karnataka\")\n",
    "\n",
    "print(\"\\n--- person1 details ---\")\n",
    "person1.details()\n",
    "\n",
    "print(\"\\n\" + \"*\" * 50 + \"\\n\")\n",
    "\n",
    "person2 = Demo(\"Suresh\", 27, 9654741256, \"Mysore\", \"Karnataka\")\n",
    "print(\"--- person2 details ---\")\n",
    "person2.details()\n",
    "\n",
    "# Show the global variable\n",
    "print(\"\\nglob:\", glob)"
   ]
  },
  {
   "cell_type": "code",
   "execution_count": 12,
   "metadata": {},
   "outputs": [
    {
     "name": "stdout",
     "output_type": "stream",
     "text": [
      "64664+wefcds+64fec\n",
      "64664+wefcds+64fec\n"
     ]
    }
   ],
   "source": [
    "# test = \"I am a global variable\"\n",
    "barcode = \"6576457+wefcds+64fec\"\n",
    "\n",
    "def details():\n",
    "\n",
    "    global barcode\n",
    "    barcode = \"64664+wefcds+64fec\"\n",
    "    print(barcode)\n",
    "\n",
    "details()\n",
    "print(barcode)\n",
    "\n"
   ]
  },
  {
   "cell_type": "markdown",
   "metadata": {},
   "source": [
    "## 3. Common pitfalls (quick recap)\n",
    "\n",
    "- `display2` originally used `kelf` – still works because Python only\n",
    "  cares about the **parameter name**, but it is confusing.\n",
    "- Code that referenced a variable (`c`) outside any method produced a\n",
    "  `NameError` – removed it.\n",
    "- Globals should be defined *before* a class if they’re referenced inside the\n",
    "  class body.\n"
   ]
  },
  {
   "cell_type": "markdown",
   "metadata": {},
   "source": []
  }
 ],
 "metadata": {
  "kernelspec": {
   "display_name": "Python 3",
   "language": "python",
   "name": "python3"
  },
  "language_info": {
   "codemirror_mode": {
    "name": "ipython",
    "version": 3
   },
   "file_extension": ".py",
   "mimetype": "text/x-python",
   "name": "python",
   "nbconvert_exporter": "python",
   "pygments_lexer": "ipython3",
   "version": "3.13.8"
  }
 },
 "nbformat": 4,
 "nbformat_minor": 2
}
