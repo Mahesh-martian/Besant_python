{
  "cells": [
    {
      "cell_type": "markdown",
      "id": "b35f40c8-7296-4d1d-a7e7-df2a81693e0b",
      "metadata": {},
      "source": [
        "# Multiple Choice Questions (MCQs) on Tuples"
      ]
    },
    {
      "cell_type": "markdown",
      "id": "3c5f9473-7d8f-432a-8166-d0cfcbe5e5b9",
      "metadata": {},
      "source": [
        "### Question 1"
      ]
    },
    {
      "cell_type": "code",
      "execution_count": null,
      "id": "0a17d7e8-cd8f-4c32-b630-f2c814c15d94",
      "metadata": {},
      "outputs": [],
      "source": [
        "# What is the output of the following code?\n",
        "aTuple = (100, 200, 300, 400, 500)\n",
        "aTuple[1] = 800\n",
        "print(aTuple)\n",
        "\n",
        "Options:\n",
        "1. TypeError\n",
        "2. (100, 800, 200, 300, 400, 500)\n",
        "3. (800, 100, 200, 300, 400, 500)"
      ]
    },
    {
      "cell_type": "markdown",
      "id": "a7d9e8b4-6c1f-4231-b691-cb87d43a7505",
      "metadata": {},
      "source": [
        "### Question 2"
      ]
    },
    {
      "cell_type": "code",
      "execution_count": null,
      "id": "3a7d9e84-df0c-4c95-a615-3b8df6a57f98",
      "metadata": {},
      "outputs": [],
      "source": [
        "# What is the output of the following code?\n",
        "aTuple = (100, 200, 300, 400, 500)\n",
        "print(aTuple[-2])\n",
        "print(aTuple[-4:-1])\n",
        "\n",
        "Options:\n",
        "1. IndexError: tuple index out of range\n",
        "2. 400\n",
        "3. (200, 300, 400)"
      ]
    },
    {
      "cell_type": "markdown",
      "id": "9e576a8b-13c5-4fcb-b5d5-c527e81be74e",
      "metadata": {},
      "source": [
        "### Question 3"
      ]
    },
    {
      "cell_type": "code",
      "execution_count": null,
      "id": "96a07b74-3c1c-4478-bd19-c5c2130df1f9",
      "metadata": {},
      "outputs": [],
      "source": [
        "# What is the output of the following?\n",
        "aTuple = 'Yellow', 20, 'Red'\n",
        "a, b, c = aTuple\n",
        "print(a)\n",
        "\n",
        "Options:\n",
        "1. ('Yellow', 20, 'Red')\n",
        "2. TypeError\n",
        "3. Yellow"
      ]
    },
    {
      "cell_type": "markdown",
      "id": "c457a61d-89b0-4abf-b0d5-e8e22586a339",
      "metadata": {},
      "source": [
        "### Question 4"
      ]
    },
    {
      "cell_type": "code",
      "execution_count": null,
      "id": "c3d40710-dfba-4b1e-a650-cf1a2db8a0d3",
      "metadata": {},
      "outputs": [],
      "source": [
        "# Choose the correct way to access value 20 from the following tuple\n",
        "aTuple = ('Orange', [10, 20, 30], (5, 15, 25))\n",
        "\n",
        "Options:\n",
        "1. aTuple[1:2][1]\n",
        "2. aTuple[1:2](1)\n",
        "3. aTuple[1:2][1]\n",
        "4. aTuple[1][1]"
      ]
    },
    {
      "cell_type": "markdown",
      "id": "f76c80e9-5d3e-4a32-bbdf-c8a539efec98",
      "metadata": {},
      "source": [
        "### Question 5"
      ]
    },
    {
      "cell_type": "code",
      "execution_count": null,
      "id": "c13e750f-e674-4d82-a7be-8a1b9a66c57d",
      "metadata": {},
      "outputs": [],
      "source": [
        "# What is the output of the following?\n",
        "tuple1 = (1120, 'text')\n",
        "print(tuple1[0])\n",
        "\n",
        "Options:\n",
        "1. 1120\n",
        "2. text\n",
        "3. TypeError"
      ]
    },
    {
      "cell_type": "markdown",
      "id": "4c8a75d9-63f5-4e71-aebe-b0b02b8d8f40",
      "metadata": {},
      "source": [
        "### Question 6"
      ]
    },
    {
      "cell_type": "code",
      "execution_count": null,
      "id": "b5c1c89a-c839-4c8c-85e0-f4f7ae2d4f83",
      "metadata": {},
      "outputs": [],
      "source": [
        "# What is the output of the following?\n",
        "tuple = (1, 2, 3)\n",
        "print(len(tuple))\n",
        "\n",
        "Options:\n",
        "1. 1\n",
        "2. 2\n",
        "3. 3"
      ]
    },
    {
      "cell_type": "markdown",
      "id": "f50e87c9-61d9-40a8-b7d7-0e20a7b3ae64",
      "metadata": {},
      "source": [
        "### Question 7"
      ]
    },
    {
      "cell_type": "code",
      "execution_count": null,
      "id": "998f0a5c-7287-44d1-b0dc-e50e58a3c426",
      "metadata": {},
      "outputs": [],
      "source": [
        "# What is the output of the following?\n",
        "tuple = (1, 2, 3)\n",
        "print(tuple + (4,))\n",
        "\n",
        "Options:\n",
        "1. (1, 2, 3)\n",
        "2. (1, 2, 3, 4)\n",
        "3. Error"
      ]
    },
    {
      "cell_type": "markdown",
      "id": "d9a8f07e-5a0b-4c10-a517-c2414f5063d7",
      "metadata": {},
      "source": [
        "### Question 8"
      ]
    },
    {
      "cell_type": "code",
      "execution_count": null,
      "id": "f8a3c3c2-b69e-4d4d-a4aa-d5a00b42c479",
      "metadata": {},
      "outputs": [],
      "source": [
        "# What is the output of the following?\n",
        "tuple = (1, 2, 3)\n",
        "print(tuple * 2)\n",
        "\n",
        "Options:\n",
        "1. (1, 2, 3)\n",
        "2. (1, 2, 3, 1, 2, 3)\n",
        "3. Error"
      ]
    },
    {
      "cell_type": "markdown",
      "id": "6a7b4c59-0a8c-4d9e-b1a2-c0618f27f34d",
      "metadata": {},
      "source": [
        "### Question 9"
      ]
    },
    {
      "cell_type": "code",
      "execution_count": null,
      "id": "a0549d7a-2cfc-4b68-8e4d-c31d25e0f744",
      "metadata": {},
      "outputs": [],
      "source": [
        "# What is the output of the following?\n",
        "tuple = (1, 2, 3)\n",
        "print(1 in tuple)\n",
        "\n",
        "Options:\n",
        "1. True\n",
        "2. False"
      ]
    },
    {
      "cell_type": "markdown",
      "id": "8a5b906e-3c8d-40f7-bc2b-1e0c93d42709",
      "metadata": {},
      "source": [
        "### Question 10"
      ]
    },
    {
      "cell_type": "code",
      "execution_count": null,
      "id": "f1a956c8-e2f9-43ac-ba39-8e6f2f89d567",
      "metadata": {},
      "outputs": [],
      "source": [
        "# What is the output of the following?\n",
        "tuple = (1, 2, 3)\n",
        "print(4 in tuple)\n",
        "\n",
        "Options:\n",
        "1. True\n",
        "2. False"
      ]
    },
    {
      "cell_type": "markdown",
      "id": "9086f74d-5b58-43f9-ae95-e81c8a61a2ab",
      "metadata": {},
      "source": [
        "### Question 11"
      ]
    },
    {
      "cell_type": "code",
      "execution_count": null,
      "id": "e0db5c7d-d06c-4c3e-a6a0-9b8dc5c3c92f",
      "metadata": {},
      "outputs": [],
      "source": [
        "# What is the output of the following?\n",
        "tuple = (1, 2, 3)\n",
        "print(tuple[0])\n",
        "\n",
        "Options:\n",
        "1. 1\n",
        "2. 2\n",
        "3. 3"
      ]
    },
    {
      "cell_type": "markdown",
      "id": "d0c89a46-5e9c-497f-bb15-517b2db3e975",
      "metadata": {},
      "source": [
        "### Question 12"
      ]
    },
    {
      "cell_type": "code",
      "execution_count": null,
      "id": "d80ae6a9-215c-456f-b8d4-cf4a9b7e6e35",
      "metadata": {},
      "outputs": [],
      "source": [
        "# What is the output of the following?\n",
        "tuple = (1, 2, 3)\n",
        "print(tuple[-1])\n",
        "\n",
        "Options:\n",
        "1. 1\n",
        "2. 2\n",
        "3. 3"
      ]
    },
    {
      "cell_type": "markdown",
      "id": "4100dc03",
      "metadata": {},
      "source": [
        "Question 1: Attempting to modify an element in a tuple using index assignment results in what?\n",
        "aTuple = (100, 200, 300, 400, 500)\n",
        "aTuple[1] = 800\n",
        "Answer: TypeError\n",
        "Explanation: Tuples are immutable in Python, meaning their elements cannot be changed after creation. Attempting to modify an element results in a TypeError.\n",
        "\n",
        "Question 2: What is the output of aTuple[-2] and aTuple[-4:-1]?\n",
        "aTuple = (100, 200, 300, 400, 500)\n",
        "print(aTuple[-2])\n",
        "print(aTuple[-4:-1])\n",
        "Answer:\n",
        "\n",
        "aTuple[-2] outputs 400.\n",
        "aTuple[-4:-1] outputs (200, 300, 400).\n",
        "Explanation: Negative indices count from the end. aTuple[-2] refers to the second last element, and aTuple[-4:-1] slices from index -4 up to but not including index -1.\n",
        "\n",
        "Question 3: What is printed when unpacking a tuple with three elements?\n",
        "aTuple = 'Yellow', 20, 'Red'\n",
        "a, b, c = aTuple\n",
        "print(a)\n",
        "Answer: Yellow\n",
        "Explanation: The variables a, b, and c are assigned the respective elements of the tuple. Printing a gives the first element.\n",
        "\n",
        "Question 4: How to access the value 20 in the nested structure?\n",
        "aTuple = ('Orange', [10, 20, 30], (5, 15, 25))\n",
        "Answer: aTuple[1][1] returns 20.\n",
        "Explanation: The element at index 1 is a list. Accessing the second element of that list gives 20.\n",
        "\n",
        "Question 5: What does accessing the first element of the tuple return?\n",
        "tuple1 = (1120, 'text')\n",
        "print(tuple1[0])\n",
        "Answer: 1120\n",
        "Explanation: The first element of the tuple is accessed using index 0.\n",
        "\n",
        "Question 6: Does checking if 1 is in the tuple return True?\n",
        "tuple = (1, 2, 3)\n",
        "print(1 in tuple)\n",
        "Answer: True\n",
        "Explanation: The in keyword checks for the presence of an element in the tuple.\n",
        "\n",
        "Question 7: Does checking if 4 is in the tuple return False?\n",
        "tuple = (1, 2, 3)\n",
        "print(4 in tuple)\n",
        "Answer: False\n",
        "Explanation: Since 4 is not an element of the tuple, the check returns False.\n",
        "\n",
        "Question 8: What is the first element of the tuple?\n",
        "tuple = (1, 2, 3)\n",
        "print(tuple[0])\n",
        "Answer: 1\n",
        "Explanation: Accessing index 0 gives the first element of the tuple.\n",
        "\n",
        "Question 9: What does accessing the last element with a negative index return?\n",
        "tuple = (1, 2, 3)\n",
        "print(tuple[-1])\n",
        "Answer: 3\n",
        "Explanation: Negative index -1 refers to the last element of the tuple.\n",
        "\n",
        "These questions and explanations cover fundamental concepts about tuples in Python, focusing on immutability, indexing, slicing, unpacking, and membership checking.\n",
        "\n",
        "\n"
      ]
    },
    {
      "cell_type": "markdown",
      "id": "4b24cd51",
      "metadata": {},
      "source": []
    }
  ],
  "metadata": {
    "language_info": {
      "name": "python"
    }
  },
  "nbformat": 4,
  "nbformat_minor": 5
}
