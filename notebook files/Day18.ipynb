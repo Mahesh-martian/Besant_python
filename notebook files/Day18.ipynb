{
 "cells": [
  {
   "cell_type": "markdown",
   "id": "0ccf6a0f",
   "metadata": {},
   "source": [
    "### Encapsulation\n",
    "\n",
    "Hiding the import data from external access\n",
    "\n",
    "#### Acess modifiers\n",
    " - public variable  --> can be acessable everywhere\n",
    " - protected variable --> can be acessable only within the module  \n",
    " - private variable --> can be acessable only within the class"
   ]
  },
  {
   "cell_type": "code",
   "execution_count": null,
   "id": "18e4feff",
   "metadata": {},
   "outputs": [],
   "source": [
    "class Bankapp:\n",
    "\n",
    "    def __init__(self, cus_name, ph, pwd):\n",
    "        self.cus_name = cus_name # public\n",
    "        self._ph = ph  #protected\n",
    "        self.__pwd = pwd  #private\n",
    "\n",
    "    def display(self):\n",
    "        print(f'Name: {self.cus_name}')\n",
    "        print(f'Ph: {self._ph}')\n",
    "        print(f'pwd: {self.__pwd}')\n",
    "\n"
   ]
  },
  {
   "cell_type": "code",
   "execution_count": 28,
   "metadata": {},
   "outputs": [
    {
     "name": "stdout",
     "output_type": "stream",
     "text": [
      "Name: Kiran\n",
      "Ph: 34826384\n",
      "pwd: pass\n",
      "Kiran\n",
      "34826384\n",
      "pass\n"
     ]
    }
   ],
   "source": [
    "cus1 = Bankapp('Kiran', 34826384, 'pass')\n",
    "cus1.display()\n",
    "print(cus1.cus_name)\n",
    "print(cus1._ph)\n",
    "# print(cus1.__pwd)\n",
    "print(cus1._Bankapp__pwd)\n"
   ]
  },
  {
   "cell_type": "markdown",
   "id": "03d75303",
   "metadata": {},
   "source": [
    "### Abstraction"
   ]
  },
  {
   "cell_type": "code",
   "execution_count": 1,
   "id": "f9f6765c",
   "metadata": {},
   "outputs": [
    {
     "ename": "NameError",
     "evalue": "name 'abstractmethod' is not defined",
     "output_type": "error",
     "traceback": [
      "\u001b[31m---------------------------------------------------------------------------\u001b[39m",
      "\u001b[31mNameError\u001b[39m                                 Traceback (most recent call last)",
      "\u001b[36mCell\u001b[39m\u001b[36m \u001b[39m\u001b[32mIn[1]\u001b[39m\u001b[32m, line 1\u001b[39m\n\u001b[32m----> \u001b[39m\u001b[32m1\u001b[39m \u001b[38;5;28;43;01mclass\u001b[39;49;00m\u001b[38;5;250;43m \u001b[39;49m\u001b[34;43;01mfruit\u001b[39;49;00m\u001b[43m:\u001b[49m\n\u001b[32m      3\u001b[39m \u001b[43m    \u001b[49m\u001b[38;5;129;43m@abstractmethod\u001b[39;49m\n\u001b[32m      4\u001b[39m \u001b[43m    \u001b[49m\u001b[38;5;28;43;01mdef\u001b[39;49;00m\u001b[38;5;250;43m \u001b[39;49m\u001b[34;43mshape\u001b[39;49m\u001b[43m(\u001b[49m\u001b[38;5;28;43mself\u001b[39;49m\u001b[43m)\u001b[49m\u001b[43m:\u001b[49m\n\u001b[32m      5\u001b[39m \u001b[43m        \u001b[49m\u001b[38;5;28;43;01mpass\u001b[39;49;00m\n",
      "\u001b[36mCell\u001b[39m\u001b[36m \u001b[39m\u001b[32mIn[1]\u001b[39m\u001b[32m, line 3\u001b[39m, in \u001b[36mfruit\u001b[39m\u001b[34m()\u001b[39m\n\u001b[32m      1\u001b[39m \u001b[38;5;28;01mclass\u001b[39;00m\u001b[38;5;250m \u001b[39m\u001b[34;01mfruit\u001b[39;00m:\n\u001b[32m----> \u001b[39m\u001b[32m3\u001b[39m     \u001b[38;5;129m@abstractmethod\u001b[39m\n\u001b[32m      4\u001b[39m     \u001b[38;5;28;01mdef\u001b[39;00m\u001b[38;5;250m \u001b[39m\u001b[34mshape\u001b[39m(\u001b[38;5;28mself\u001b[39m):\n\u001b[32m      5\u001b[39m         \u001b[38;5;28;01mpass\u001b[39;00m\n\u001b[32m      7\u001b[39m     \u001b[38;5;28;01mdef\u001b[39;00m\u001b[38;5;250m \u001b[39m\u001b[34mcolour\u001b[39m(\u001b[38;5;28mself\u001b[39m):\n",
      "\u001b[31mNameError\u001b[39m: name 'abstractmethod' is not defined"
     ]
    }
   ],
   "source": [
    "class fruit:\n",
    "\n",
    "    @abstractmethod\n",
    "    def shape(self):\n",
    "        pass\n",
    "\n",
    "    def colour(self):\n",
    "        pass\n",
    "\n",
    "    def price(self):\n",
    "        pass\n",
    "\n",
    "Mango = fruit() "
   ]
  },
  {
   "cell_type": "code",
   "execution_count": null,
   "metadata": {},
   "outputs": [],
   "source": [
    "from abc import abstractmethod\n",
    "\n",
    "class fruit:\n",
    "\n",
    "    @abstractmethod\n",
    "    def shape(self):\n",
    "        pass\n",
    "\n",
    "    def colour(self):\n",
    "        pass\n",
    "\n",
    "    def price(self):\n",
    "        pass\n",
    "\n",
    "Mango = fruit()  \n",
    "# I am able to create an object for a class contains abstractmethod and normal (instance) method"
   ]
  },
  {
   "cell_type": "code",
   "execution_count": 5,
   "metadata": {},
   "outputs": [],
   "source": [
    "from abc import abstractmethod\n",
    "\n",
    "class fruit:\n",
    "\n",
    "    @abstractmethod\n",
    "    def shape(self):\n",
    "        pass\n",
    "\n",
    "    @abstractmethod\n",
    "    def colour(self):\n",
    "        pass\n",
    "    \n",
    "    @abstractmethod\n",
    "    def price(self):\n",
    "        pass\n",
    "\n",
    "Mango = fruit()\n",
    "\n",
    "class mango(fruit):\n",
    "    def price(self):\n",
    "        pass\n",
    "\n",
    "indianMango = mango()\n",
    "\n",
    "# I am able to create an object for a class contains only abstractmethod\n",
    "# without implementing in child class i can instantiate the object for child class as well"
   ]
  },
  {
   "cell_type": "code",
   "execution_count": 6,
   "metadata": {},
   "outputs": [
    {
     "ename": "TypeError",
     "evalue": "Can't instantiate abstract class fruit without an implementation for abstract methods 'colour', 'price', 'shape'",
     "output_type": "error",
     "traceback": [
      "\u001b[31m---------------------------------------------------------------------------\u001b[39m",
      "\u001b[31mTypeError\u001b[39m                                 Traceback (most recent call last)",
      "\u001b[36mCell\u001b[39m\u001b[36m \u001b[39m\u001b[32mIn[6]\u001b[39m\u001b[32m, line 17\u001b[39m\n\u001b[32m     13\u001b[39m     \u001b[38;5;129m@abstractmethod\u001b[39m\n\u001b[32m     14\u001b[39m     \u001b[38;5;28;01mdef\u001b[39;00m\u001b[38;5;250m \u001b[39m\u001b[34mprice\u001b[39m(\u001b[38;5;28mself\u001b[39m):\n\u001b[32m     15\u001b[39m         \u001b[38;5;28;01mpass\u001b[39;00m\n\u001b[32m---> \u001b[39m\u001b[32m17\u001b[39m Mango = \u001b[43mfruit\u001b[49m\u001b[43m(\u001b[49m\u001b[43m)\u001b[49m\n\u001b[32m     19\u001b[39m \u001b[38;5;28;01mclass\u001b[39;00m\u001b[38;5;250m \u001b[39m\u001b[34;01mmango\u001b[39;00m(fruit):\n\u001b[32m     20\u001b[39m     \u001b[38;5;28;01mpass\u001b[39;00m\n",
      "\u001b[31mTypeError\u001b[39m: Can't instantiate abstract class fruit without an implementation for abstract methods 'colour', 'price', 'shape'"
     ]
    }
   ],
   "source": [
    "from abc import abstractmethod, ABC\n",
    "\n",
    "class fruit(ABC):\n",
    "\n",
    "    @abstractmethod\n",
    "    def shape(self):\n",
    "        pass\n",
    "\n",
    "    @abstractmethod\n",
    "    def colour(self):\n",
    "        pass\n",
    "    \n",
    "    @abstractmethod\n",
    "    def price(self):\n",
    "        pass\n",
    "\n",
    "Mango = fruit()\n",
    "\n",
    "class mango(fruit):\n",
    "    pass\n",
    "\n",
    "indianMango = mango()\n",
    "\n",
    "# Can't instantiate object for abstract class fruit without an implementation for abstract methods 'colour', 'price', 'shape'"
   ]
  },
  {
   "cell_type": "code",
   "execution_count": 8,
   "id": "17348c5f",
   "metadata": {},
   "outputs": [],
   "source": [
    "from abc import abstractmethod, ABC\n",
    "\n",
    "class fruit(ABC):\n",
    "\n",
    "    @abstractmethod\n",
    "    def shape(self):\n",
    "        pass\n",
    "\n",
    "    @abstractmethod\n",
    "    def colour(self):\n",
    "        pass\n",
    "    \n",
    "    def price(self):\n",
    "        pass\n",
    "\n",
    "class mango(fruit):\n",
    "\n",
    "    def shape(self):\n",
    "        print(\"oval in shape\")\n",
    "\n",
    "    def colour(self):\n",
    "        print(\"orangish yellow in colour\")\n",
    "\n",
    "indianMango = mango()\n",
    "\n",
    "# Can't instantiate object for abstract class fruit without an implementation for abstract methods 'colour', 'price', 'shape'"
   ]
  },
  {
   "cell_type": "markdown",
   "id": "2abf67ef",
   "metadata": {},
   "source": [
    "A decorator indicating abstract methods.\n",
    "\n",
    "Requires that the metaclass is ABC or derived from it. A class that has a metaclass derived from ABC cannot be instantiated unless all of its abstract methods are overridden. The abstract methods can be called using any of the normal 'super' call mechanisms. abstractmethod() may be used to declare abstract methods for properties and descriptors."
   ]
  },
  {
   "cell_type": "markdown",
   "id": "60777893",
   "metadata": {},
   "source": [
    "A abstarct class with only abstract methods are called as interface"
   ]
  },
  {
   "cell_type": "code",
   "execution_count": null,
   "id": "17d784da",
   "metadata": {},
   "outputs": [],
   "source": [
    "from abc import abstractmethod, ABC\n",
    "\n",
    "class fruit(ABC):\n",
    "\n",
    "    @abstractmethod\n",
    "    def shape(self):\n",
    "        pass\n",
    "\n",
    "    @abstractmethod\n",
    "    def colour(self):\n",
    "        pass\n",
    "    \n",
    "    @abstractmethod\n",
    "    def price(self):\n",
    "        pass\n",
    "\n",
    "Mango = fruit()"
   ]
  },
  {
   "cell_type": "markdown",
   "id": "be5e4e91",
   "metadata": {},
   "source": []
  }
 ],
 "metadata": {
  "kernelspec": {
   "display_name": "Python 3",
   "language": "python",
   "name": "python3"
  },
  "language_info": {
   "codemirror_mode": {
    "name": "ipython",
    "version": 3
   },
   "file_extension": ".py",
   "mimetype": "text/x-python",
   "name": "python",
   "nbconvert_exporter": "python",
   "pygments_lexer": "ipython3",
   "version": "3.13.9"
  }
 },
 "nbformat": 4,
 "nbformat_minor": 5
}
