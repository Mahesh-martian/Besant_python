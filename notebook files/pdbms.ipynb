{
 "cells": [
  {
   "cell_type": "code",
   "execution_count": 1,
   "metadata": {},
   "outputs": [],
   "source": [
    "import sqlite3\n",
    "from faker import Faker\n",
    "\n",
    "fake = Faker()"
   ]
  },
  {
   "cell_type": "code",
   "execution_count": 15,
   "metadata": {},
   "outputs": [],
   "source": [
    "conn = sqlite3.connect('grocery_store.db')\n",
    "c = conn.cursor()"
   ]
  },
  {
   "cell_type": "code",
   "execution_count": 3,
   "metadata": {},
   "outputs": [
    {
     "ename": "OperationalError",
     "evalue": "table customers already exists",
     "output_type": "error",
     "traceback": [
      "\u001b[0;31m---------------------------------------------------------------------------\u001b[0m",
      "\u001b[0;31mOperationalError\u001b[0m                          Traceback (most recent call last)",
      "Cell \u001b[0;32mIn[3], line 1\u001b[0m\n\u001b[0;32m----> 1\u001b[0m \u001b[43mc\u001b[49m\u001b[38;5;241;43m.\u001b[39;49m\u001b[43mexecute\u001b[49m\u001b[43m(\u001b[49m\u001b[38;5;124;43m\"\"\"\u001b[39;49m\n\u001b[1;32m      2\u001b[0m \u001b[38;5;124;43m    CREATE TABLE customers (\u001b[39;49m\n\u001b[1;32m      3\u001b[0m \u001b[38;5;124;43m        id INTEGER PRIMARY KEY,\u001b[39;49m\n\u001b[1;32m      4\u001b[0m \u001b[38;5;124;43m        name TEXT,\u001b[39;49m\n\u001b[1;32m      5\u001b[0m \u001b[38;5;124;43m        favorite_product TEXT\u001b[39;49m\n\u001b[1;32m      6\u001b[0m \u001b[38;5;124;43m    )  \u001b[39;49m\u001b[38;5;124;43m\"\"\"\u001b[39;49m\u001b[43m)\u001b[49m\n",
      "\u001b[0;31mOperationalError\u001b[0m: table customers already exists"
     ]
    }
   ],
   "source": [
    "c.execute(\"\"\"\n",
    "    CREATE TABLE customers (\n",
    "        id INTEGER PRIMARY KEY,\n",
    "        name TEXT,\n",
    "        favorite_product TEXT\n",
    "    )  \"\"\")"
   ]
  },
  {
   "cell_type": "code",
   "execution_count": 4,
   "metadata": {},
   "outputs": [],
   "source": [
    "c.fetchone()"
   ]
  },
  {
   "cell_type": "code",
   "execution_count": 5,
   "metadata": {},
   "outputs": [
    {
     "data": {
      "text/plain": [
       "[('customers',)]"
      ]
     },
     "execution_count": 5,
     "metadata": {},
     "output_type": "execute_result"
    }
   ],
   "source": [
    "c.execute(\"SELECT name FROM sqlite_master WHERE type='table';\")\n",
    "c.fetchall()"
   ]
  },
  {
   "cell_type": "code",
   "execution_count": 6,
   "metadata": {},
   "outputs": [
    {
     "data": {
      "text/plain": [
       "[]"
      ]
     },
     "execution_count": 6,
     "metadata": {},
     "output_type": "execute_result"
    }
   ],
   "source": [
    "res = c.execute(\"SELECT * FROM customers\")\n",
    "res.fetchall()"
   ]
  },
  {
   "cell_type": "code",
   "execution_count": 7,
   "metadata": {},
   "outputs": [
    {
     "data": {
      "text/plain": [
       "<sqlite3.Cursor at 0x103ea8940>"
      ]
     },
     "execution_count": 7,
     "metadata": {},
     "output_type": "execute_result"
    }
   ],
   "source": [
    "c.execute(\"\"\" INSERT into customers Values(?,?,?)\"\"\", ('1','subbu','oreo'))"
   ]
  },
  {
   "cell_type": "code",
   "execution_count": 8,
   "metadata": {},
   "outputs": [
    {
     "data": {
      "text/plain": [
       "<sqlite3.Cursor at 0x103ea8940>"
      ]
     },
     "execution_count": 8,
     "metadata": {},
     "output_type": "execute_result"
    }
   ],
   "source": [
    "c.execute(\"\"\" INSERT into customers Values(?,?,?)\"\"\", ('2','kiran','chocolate'))\n"
   ]
  },
  {
   "cell_type": "code",
   "execution_count": 9,
   "metadata": {},
   "outputs": [
    {
     "data": {
      "text/plain": [
       "[(1, 'subbu', 'oreo'), (2, 'kiran', 'chocolate')]"
      ]
     },
     "execution_count": 9,
     "metadata": {},
     "output_type": "execute_result"
    }
   ],
   "source": [
    "res = c.execute(\"SELECT * FROM customers\")\n",
    "res.fetchall()"
   ]
  },
  {
   "cell_type": "code",
   "execution_count": 11,
   "metadata": {},
   "outputs": [],
   "source": [
    "# CRUD operations\n",
    "def create_customer(id, name, favorite_product):\n",
    "    c.execute(\"INSERT INTO customers VALUES (?, ?, ?)\", (id, name, favorite_product))\n",
    "\n",
    "def read_customer(id):\n",
    "    c.execute(\"SELECT * FROM customers WHERE id=?\", (id,))\n",
    "    return c.fetchone()\n",
    "\n",
    "def update_customer(id, name, favorite_product):\n",
    "    c.execute(\"UPDATE customers SET name=?, favorite_product=? WHERE id=?\", (name, favorite_product, id))\n",
    "\n",
    "def delete_customer(id):\n",
    "    c.execute(\"DELETE FROM customers WHERE id=?\", (id,))\n"
   ]
  },
  {
   "cell_type": "code",
   "execution_count": 17,
   "metadata": {},
   "outputs": [
    {
     "name": "stdout",
     "output_type": "stream",
     "text": [
      "Collecting faker\n",
      "  Downloading faker-37.12.0-py3-none-any.whl.metadata (15 kB)\n",
      "Requirement already satisfied: tzdata in /Library/Frameworks/Python.framework/Versions/3.13/lib/python3.13/site-packages (from faker) (2025.1)\n",
      "Downloading faker-37.12.0-py3-none-any.whl (2.0 MB)\n",
      "\u001b[2K   \u001b[90m━━━━━━━━━━━━━━━━━━━━━━━━━━━━━━━━━━━━━━━━\u001b[0m \u001b[32m2.0/2.0 MB\u001b[0m \u001b[31m35.2 MB/s\u001b[0m eta \u001b[36m0:00:00\u001b[0m\n",
      "\u001b[?25hInstalling collected packages: faker\n",
      "Successfully installed faker-37.12.0\n",
      "\n",
      "\u001b[1m[\u001b[0m\u001b[34;49mnotice\u001b[0m\u001b[1;39;49m]\u001b[0m\u001b[39;49m A new release of pip is available: \u001b[0m\u001b[31;49m25.0.1\u001b[0m\u001b[39;49m -> \u001b[0m\u001b[32;49m25.3\u001b[0m\n",
      "\u001b[1m[\u001b[0m\u001b[34;49mnotice\u001b[0m\u001b[1;39;49m]\u001b[0m\u001b[39;49m To update, run: \u001b[0m\u001b[32;49mpip install --upgrade pip\u001b[0m\n",
      "Note: you may need to restart the kernel to use updated packages.\n"
     ]
    }
   ],
   "source": [
    "pip install faker"
   ]
  },
  {
   "cell_type": "code",
   "execution_count": 19,
   "metadata": {},
   "outputs": [
    {
     "name": "stdout",
     "output_type": "stream",
     "text": [
      "Inserted 20 Customer Records:\n",
      "(3, 'Karen Davis', 'VR Headset')\n",
      "(4, 'Monica Mckinney', 'Power Bank')\n",
      "(5, 'Stephen Ray', 'TV')\n",
      "(6, 'Jon Armstrong', 'Keyboard')\n",
      "(7, 'Ryan Weiss', 'Headphones')\n",
      "(8, 'Sarah Brown', 'Headphones')\n",
      "(9, 'Maria Roberts', 'Smartphone')\n",
      "(10, 'Leroy Chandler', 'Monitor')\n",
      "(11, 'Joseph Zimmerman', 'Router')\n",
      "(12, 'Cynthia Price', 'Laptop')\n",
      "(13, 'Brianna Mccoy', 'Smart Home Hub')\n",
      "(14, 'Tina Smith', 'Drone')\n",
      "(15, 'Miguel Bell', 'Power Bank')\n",
      "(16, 'George Alexander', 'Bluetooth Speaker')\n",
      "(17, 'Miguel Moore', 'Printer')\n",
      "(18, 'Richard Moore', 'Power Bank')\n",
      "(19, 'Casey Stewart', 'TV')\n",
      "(20, 'Charles Williams', 'VR Headset')\n"
     ]
    }
   ],
   "source": [
    "import random\n",
    "\n",
    "# List of sample products\n",
    "products = [\n",
    "    \"Laptop\", \"Smartphone\", \"Tablet\", \"Smartwatch\", \"Camera\",\n",
    "    \"Headphones\", \"Bluetooth Speaker\", \"Gaming Console\", \"Monitor\", \"Keyboard\",\n",
    "    \"Mouse\", \"Printer\", \"Router\", \"Drone\", \"Fitness Tracker\",\n",
    "    \"Power Bank\", \"VR Headset\", \"TV\", \"Microphone\", \"Smart Home Hub\"\n",
    "]\n",
    "\n",
    "# Generate and insert 20 dummy records\n",
    "for i in range(3, 21):\n",
    "    name = fake.name()\n",
    "    favorite_product = random.choice(products)\n",
    "    create_customer(i, name, favorite_product)\n",
    "\n",
    "# Display inserted records\n",
    "c.execute(\"SELECT * FROM customers\")\n",
    "rows = c.fetchall()\n",
    "\n",
    "print(\"Inserted 20 Customer Records:\")\n",
    "for row in rows:\n",
    "    print(row)\n",
    "\n"
   ]
  },
  {
   "cell_type": "code",
   "execution_count": 20,
   "metadata": {},
   "outputs": [
    {
     "name": "stdout",
     "output_type": "stream",
     "text": [
      "(5, 'Stephen Ray', 'TV')\n"
     ]
    }
   ],
   "source": [
    "print(read_customer(5))"
   ]
  },
  {
   "cell_type": "code",
   "execution_count": 23,
   "metadata": {},
   "outputs": [],
   "source": [
    "update_customer('3', 'karan','potato chips')"
   ]
  },
  {
   "cell_type": "code",
   "execution_count": 24,
   "metadata": {},
   "outputs": [
    {
     "data": {
      "text/plain": [
       "[(3, 'karan', 'potato chips'),\n",
       " (4, 'Monica Mckinney', 'Power Bank'),\n",
       " (5, 'Stephen Ray', 'TV'),\n",
       " (6, 'Jon Armstrong', 'Keyboard'),\n",
       " (7, 'Ryan Weiss', 'Headphones'),\n",
       " (8, 'Sarah Brown', 'Headphones'),\n",
       " (9, 'Maria Roberts', 'Smartphone'),\n",
       " (10, 'Leroy Chandler', 'Monitor'),\n",
       " (11, 'Joseph Zimmerman', 'Router'),\n",
       " (12, 'Cynthia Price', 'Laptop'),\n",
       " (13, 'Brianna Mccoy', 'Smart Home Hub'),\n",
       " (14, 'Tina Smith', 'Drone'),\n",
       " (15, 'Miguel Bell', 'Power Bank'),\n",
       " (16, 'George Alexander', 'Bluetooth Speaker'),\n",
       " (17, 'Miguel Moore', 'Printer'),\n",
       " (18, 'Richard Moore', 'Power Bank'),\n",
       " (19, 'Casey Stewart', 'TV'),\n",
       " (20, 'Charles Williams', 'VR Headset')]"
      ]
     },
     "execution_count": 24,
     "metadata": {},
     "output_type": "execute_result"
    }
   ],
   "source": [
    "c.execute(\"\"\"SELECT * FROM customers \"\"\").fetchall()"
   ]
  },
  {
   "cell_type": "code",
   "execution_count": 19,
   "metadata": {},
   "outputs": [],
   "source": [
    "delete_customer('2')"
   ]
  },
  {
   "cell_type": "code",
   "execution_count": 18,
   "metadata": {},
   "outputs": [
    {
     "data": {
      "text/plain": [
       "[]"
      ]
     },
     "execution_count": 18,
     "metadata": {},
     "output_type": "execute_result"
    }
   ],
   "source": [
    "c.execute(\"\"\"SELECT * FROM customers \"\"\").fetchall()\n"
   ]
  },
  {
   "cell_type": "code",
   "execution_count": null,
   "metadata": {},
   "outputs": [],
   "source": [
    "# c.execute(\"\"\"DROP Table customers \"\"\")"
   ]
  },
  {
   "cell_type": "code",
   "execution_count": null,
   "metadata": {},
   "outputs": [],
   "source": [
    "# c.execute(\"\"\"SELECT * FROM customers \"\"\").fetchall()\n"
   ]
  },
  {
   "cell_type": "code",
   "execution_count": 29,
   "metadata": {},
   "outputs": [],
   "source": [
    "conn.commit()\n",
    "\n",
    "# Close the connection\n",
    "c.close()"
   ]
  }
 ],
 "metadata": {
  "kernelspec": {
   "display_name": "Python 3",
   "language": "python",
   "name": "python3"
  },
  "language_info": {
   "codemirror_mode": {
    "name": "ipython",
    "version": 3
   },
   "file_extension": ".py",
   "mimetype": "text/x-python",
   "name": "python",
   "nbconvert_exporter": "python",
   "pygments_lexer": "ipython3",
   "version": "3.13.1"
  }
 },
 "nbformat": 4,
 "nbformat_minor": 2
}
