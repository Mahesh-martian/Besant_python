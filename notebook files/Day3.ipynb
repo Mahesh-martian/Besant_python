{
 "cells": [
  {
   "cell_type": "markdown",
   "id": "7d12ed4c",
   "metadata": {},
   "source": [
    "## Mutable & Immutable Data Types 🔄🔐\n",
    "\n",
    "### Immutable Data Types 🚫✏️\n",
    "**Definition:** Data types that **cannot** be changed after declaration.\n",
    "\n",
    "```python\n",
    "my_num = 896542587\n",
    "print(my_num)\n",
    "print(id(my_num))\n",
    "my_num = 896543587\n",
    "print(my_num)\n",
    "print(id(my_num))\n",
    "```\n",
    "\n",
    "🔹 **Immutable types:** `int, float, str, tuple, frozenset`\n"
   ]
  },
  {
   "cell_type": "code",
   "execution_count": 2,
   "id": "7f897686",
   "metadata": {},
   "outputs": [
    {
     "name": "stdout",
     "output_type": "stream",
     "text": [
      "896542587\n",
      "1908705082608\n",
      "896543587\n",
      "1908705082480\n"
     ]
    }
   ],
   "source": [
    "my_num = 896542587\n",
    "print(my_num)\n",
    "print(id(my_num))\n",
    "my_num = 896543587\n",
    "print(my_num)\n",
    "print(id(my_num))"
   ]
  },
  {
   "cell_type": "markdown",
   "id": "75a89bd7",
   "metadata": {},
   "source": [
    "### Mutable Data Types ✏️\n",
    "**Definition:** Data types that **can** be changed after declaration.\n",
    "\n",
    "```python\n",
    "my_list = [1,2,3,4,5,9]\n",
    "print(my_list)\n",
    "print(id(my_list))\n",
    "my_list.append(10)\n",
    "print(my_list)\n",
    "print(id(my_list))\n",
    "```\n",
    "\n",
    "🔹 **Mutable types:** `list, dict, set, bytearray`"
   ]
  },
  {
   "cell_type": "code",
   "execution_count": 1,
   "id": "ffe7fee2",
   "metadata": {},
   "outputs": [
    {
     "name": "stdout",
     "output_type": "stream",
     "text": [
      "[1, 2, 3, 4, 5, 9]\n",
      "1908706312576\n",
      "[1, 2, 3, 4, 5, 9, 10]\n",
      "1908706312576\n"
     ]
    }
   ],
   "source": [
    "my_list = [1,2,3,4,5,9]\n",
    "print(my_list)\n",
    "print(id(my_list))\n",
    "my_list.append(10)\n",
    "print(my_list)\n",
    "print(id(my_list))"
   ]
  },
  {
   "cell_type": "markdown",
   "id": "d3f0d44a",
   "metadata": {},
   "source": [
    "### **id()** Function 🔍\n",
    "Used to fetch the memory address of an object."
   ]
  },
  {
   "cell_type": "code",
   "execution_count": null,
   "id": "c6e30d62",
   "metadata": {},
   "outputs": [],
   "source": []
  },
  {
   "cell_type": "markdown",
   "id": "9adf9c6a",
   "metadata": {},
   "source": [
    "## Input & Output Operations 🎤📢\n",
    "\n",
    "### **input()** Function ⌨️\n",
    "Used to take user input.\n",
    "\n",
    "```python\n",
    "data = input(\"Enter the data: \")\n",
    "print(data)\n",
    "print(type(data))\n",
    "\n",
    "✅ **Example:** Taking two numbers from the user and adding them.\n",
    "\n",
    "num1 = int(input(\"Enter the number 1: \"))\n",
    "num2 = int(input(\"Enter the number 2: \"))\n",
    "print(num1 + num2)\n",
    "```"
   ]
  },
  {
   "cell_type": "code",
   "execution_count": 3,
   "id": "a0917f0e",
   "metadata": {},
   "outputs": [
    {
     "name": "stdout",
     "output_type": "stream",
     "text": [
      "10\n",
      "<class 'str'>\n"
     ]
    }
   ],
   "source": [
    "data = input(\"Enter the data: \")\n",
    "print(data)\n",
    "print(type(data))"
   ]
  },
  {
   "cell_type": "markdown",
   "id": "d707cbc3",
   "metadata": {},
   "source": [
    "✅ **Example:** Taking two numbers from the user and adding them."
   ]
  },
  {
   "cell_type": "code",
   "execution_count": null,
   "id": "65a6c2b5",
   "metadata": {},
   "outputs": [],
   "source": [
    "num1 = int(input(\"Enter the number 1: \"))\n",
    "num2 = int(input(\"Enter the number 2: \"))\n",
    "print(num1 + num2)"
   ]
  },
  {
   "cell_type": "markdown",
   "id": "f7f52dfa",
   "metadata": {},
   "source": [
    "### **print()** Function 🖨️\n",
    "**General Syntax:**\n",
    "```python\n",
    "print(data, sep=\" \", end=\"\\n\")\n",
    "```\n",
    "\n",
    "📝 **Defaults:**\n",
    "- `sep = \" \" (space as separator)`\n",
    "- `end = \"\\n\" (new line after printing)`\n",
    "---\n",
    "#### 🔹 Printing Examples:"
   ]
  },
  {
   "cell_type": "code",
   "execution_count": 5,
   "id": "98437893",
   "metadata": {},
   "outputs": [
    {
     "name": "stdout",
     "output_type": "stream",
     "text": [
      "\n",
      "data1\n",
      "data1-data2\n",
      "Data3\n"
     ]
    }
   ],
   "source": [
    "#✅ **Empty Print:**\n",
    "print()\n",
    "\n",
    "#✅ **Single Data:**\n",
    "\n",
    "print('data1')\n",
    "\n",
    "#✅ **Multiple Data:**\n",
    "\n",
    "print('data1', 'data2', sep=\"-\", end=\"\\n\")\n",
    "print('Data3')"
   ]
  },
  {
   "cell_type": "markdown",
   "id": "0db9b057",
   "metadata": {},
   "source": [
    "✅ **Formatted Output:**"
   ]
  },
  {
   "cell_type": "code",
   "execution_count": 6,
   "id": "8f53e77a",
   "metadata": {},
   "outputs": [
    {
     "name": "stdout",
     "output_type": "stream",
     "text": [
      "I am a Python programmer\n",
      "name Mahesh course Python college Besant\n",
      "name Mahesh course Python college Besant\n",
      "name Mahesh course Python college Besant\n"
     ]
    }
   ],
   "source": [
    "print(\"I am a Python programmer\")\n",
    "name = \"Mahesh\"\n",
    "course = \"Python\"\n",
    "college = \"Besant\"\n",
    "print(\"name\", name, \"course\", course, \"college\", college)\n",
    "print(\"name {} course {} college {}\".format(name, course, college))\n",
    "print(f\"name {name} course {course} college {college}\")"
   ]
  },
  {
   "cell_type": "markdown",
   "id": "7cac5571",
   "metadata": {},
   "source": [
    "### **eval()** Function 🎯 \n",
    "Used to convert input data into its original data type."
   ]
  },
  {
   "cell_type": "code",
   "execution_count": 7,
   "id": "76e1d885",
   "metadata": {},
   "outputs": [
    {
     "name": "stdout",
     "output_type": "stream",
     "text": [
      "Mahesh\n",
      "<class 'str'>\n",
      "python\n",
      "<class 'str'>\n",
      "17\n",
      "<class 'int'>\n",
      "78\n",
      "<class 'int'>\n"
     ]
    }
   ],
   "source": [
    "name = input(\"Enter the name:\")\n",
    "subject = input(\"Enter the subject name: \")\n",
    "marks = eval(input(\"Enter the marks: \"))\n",
    "percentage = eval(input(\"Enter the percentage: \"))\n",
    "print(name)\n",
    "print(type(name))\n",
    "print(subject)\n",
    "print(type(subject))\n",
    "print(marks)\n",
    "print(type(marks))\n",
    "print(percentage)\n",
    "print(type(percentage))"
   ]
  },
  {
   "cell_type": "markdown",
   "id": "5f9c9264",
   "metadata": {},
   "source": []
  }
 ],
 "metadata": {
  "kernelspec": {
   "display_name": "Python 3",
   "language": "python",
   "name": "python3"
  },
  "language_info": {
   "codemirror_mode": {
    "name": "ipython",
    "version": 3
   },
   "file_extension": ".py",
   "mimetype": "text/x-python",
   "name": "python",
   "nbconvert_exporter": "python",
   "pygments_lexer": "ipython3",
   "version": "3.13.7"
  }
 },
 "nbformat": 4,
 "nbformat_minor": 5
}
