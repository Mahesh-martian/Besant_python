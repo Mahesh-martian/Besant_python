{
 "cells": [
  {
   "cell_type": "markdown",
   "id": "ad148dd2",
   "metadata": {},
   "source": [
    "# Python Modules - Complete Guide for Data Analytics Students\n",
    "\n",
    "## Table of Contents\n",
    "1. [Introduction to Modules](#introduction-to-modules)\n",
    "2. [Project Structure & Module Organization](#project-structure--module-organization)\n",
    "3. [Importing Modules](#importing-modules)\n",
    "4. [Built-in Modules](#built-in-modules)\n",
    "5. [Math Module](#math-module)\n",
    "6. [Random Module](#random-module)\n",
    "7. [Faker Module](#faker-module)\n",
    "8. [Practical Examples](#practical-examples)\n",
    "9. [Best Practices](#best-practices)\n",
    "10. [Practice Problems](#practice-problems)\n",
    "\n",
    "---\n",
    "\n",
    "## Introduction to Modules\n",
    "\n",
    "### What is a Module?\n",
    "\n",
    "**A module in Python is:**\n",
    "- A combination of **variables**, **functions**, and **classes** present within a Python file\n",
    "- Any Python file with `.py` extension\n",
    "- A Python script that can be reused in other programs\n",
    "- A way to organize and structure code logically\n",
    "\n",
    "### Why Use Modules?\n",
    "\n",
    "✅ **Code Reusability** - Write once, use multiple times  \n",
    "✅ **Organization** - Keep related code together  \n",
    "✅ **Namespace Management** - Avoid naming conflicts  \n",
    "✅ **Maintainability** - Easier to debug and update  \n",
    "✅ **Collaboration** - Multiple developers can work on different modules\n",
    "\n",
    "---\n",
    "\n",
    "## Project Structure & Module Organization\n",
    "\n",
    "### Basic Project Structure\n",
    "\n",
    "```\n",
    "MyProject/\n",
    "│\n",
    "├── __pycache__/          # Compiled Python files (auto-generated)\n",
    "│   └── *.pyc             # Bytecode files for faster loading\n",
    "│\n",
    "├── calculate.py          # Module with calculation functions\n",
    "├── test.py               # Main file or test file\n",
    "└── maindeveloper.py      # Main application file\n",
    "```\n",
    "\n",
    "### Multi-Module Project Structure\n",
    "\n",
    "```\n",
    "ProjectStructure/\n",
    "│\n",
    "├── maindeveloper.py      # Main application (imports other modules)\n",
    "├── dev1.py               # Module by developer 1\n",
    "├── dev2.py               # Module by developer 2\n",
    "├── dev3.py               # Module by developer 3\n",
    "│\n",
    "└── __pycache__/          # Compiled files directory\n",
    "    ├── dev1.cpython-39.pyc\n",
    "    ├── dev2.cpython-39.pyc\n",
    "    └── dev3.cpython-39.pyc\n",
    "```\n",
    "\n",
    "### Understanding __pycache__ and .pyc Files\n",
    "\n",
    "- **`__pycache__`**: Directory created automatically by Python\n",
    "- **`.pyc` files**: Compiled bytecode files (faster execution)\n",
    "- These are **auto-generated** - no need to create manually\n",
    "- Safe to delete (Python will regenerate them)\n",
    "\n",
    "---\n",
    "\n",
    "## Importing Modules\n",
    "\n",
    "### Import Syntax Options\n",
    "\n",
    "#### 1. Basic Import\n",
    "```python\n",
    "import modulename\n",
    "\n",
    "# Usage\n",
    "modulename.function_name()\n",
    "modulename.variable_name\n",
    "```\n",
    "\n",
    "**Example:**"
   ]
  },
  {
   "cell_type": "code",
   "execution_count": 1,
   "id": "ca72ad5f",
   "metadata": {},
   "outputs": [
    {
     "name": "stdout",
     "output_type": "stream",
     "text": [
      "4.0\n"
     ]
    }
   ],
   "source": [
    "import math\n",
    "print(math.sqrt(16))  # Output: 4.0"
   ]
  },
  {
   "cell_type": "markdown",
   "id": "aad51223",
   "metadata": {},
   "source": [
    "#### 2. Multiple Module Import\n",
    "```python\n",
    "import module1, module2, module3\n",
    "\n",
    "# Usage\n",
    "module1.function1()\n",
    "module2.function2()\n",
    "```\n",
    "\n",
    "**Example:**"
   ]
  },
  {
   "cell_type": "code",
   "execution_count": 2,
   "id": "c0b052af",
   "metadata": {},
   "outputs": [
    {
     "name": "stdout",
     "output_type": "stream",
     "text": [
      "3.141592653589793\n",
      "10\n"
     ]
    }
   ],
   "source": [
    "import math, random, os\n",
    "print(math.pi)\n",
    "print(random.randint(1, 10))"
   ]
  },
  {
   "cell_type": "markdown",
   "id": "0307e5e0",
   "metadata": {},
   "source": [
    "#### 3. Import with Alias (Recommended for long names)\n",
    "```python\n",
    "import module1 as m1, module2 as m2\n",
    "\n",
    "# Usage\n",
    "m1.function_name()\n",
    "m2.function_name()\n",
    "```\n",
    "\n",
    "**Example:**"
   ]
  },
  {
   "cell_type": "code",
   "execution_count": 3,
   "id": "4d1faeab",
   "metadata": {},
   "outputs": [],
   "source": [
    "import pandas as pd\n",
    "import numpy as np\n",
    "import matplotlib.pyplot as plt\n",
    "\n",
    "df = pd.DataFrame()  # Short and clean!"
   ]
  },
  {
   "cell_type": "markdown",
   "id": "d4610651",
   "metadata": {},
   "source": [
    "#### 4. Import Specific Members\n",
    "```python\n",
    "from module1 import function1, variable1\n",
    "\n",
    "# Usage - No need to use module name\n",
    "function1()\n",
    "print(variable1)\n",
    "```\n",
    "\n",
    "**Example:**"
   ]
  },
  {
   "cell_type": "code",
   "execution_count": 4,
   "id": "c53c9cce",
   "metadata": {},
   "outputs": [
    {
     "name": "stdout",
     "output_type": "stream",
     "text": [
      "5.0\n",
      "120\n"
     ]
    }
   ],
   "source": [
    "from math import sqrt, pi, factorial\n",
    "\n",
    "print(sqrt(25))      # Output: 5.0\n",
    "print(factorial(5))  # Output: 120"
   ]
  },
  {
   "cell_type": "markdown",
   "id": "e40cfb1b",
   "metadata": {},
   "source": [
    "#### 5. Import All Members (Use with Caution!)\n",
    "```python\n",
    "from module1 import *\n",
    "\n",
    "# All functions/variables available directly\n",
    "```\n",
    "\n",
    "**Example:**"
   ]
  },
  {
   "cell_type": "code",
   "execution_count": 5,
   "id": "7a51a198",
   "metadata": {},
   "outputs": [
    {
     "name": "stdout",
     "output_type": "stream",
     "text": [
      "4.0\n",
      "120\n",
      "5\n"
     ]
    }
   ],
   "source": [
    "from math import *\n",
    "\n",
    "print(sqrt(16))\n",
    "print(factorial(5))\n",
    "print(ceil(4.2))"
   ]
  },
  {
   "cell_type": "markdown",
   "id": "8ce14f88",
   "metadata": {},
   "source": [
    "⚠️ **Warning:** Using `import *` can lead to naming conflicts. Use it only when you're sure about the module contents.\n",
    "\n",
    "#### 6. Import with Aliases for Specific Members\n",
    "```python\n",
    "from module1 import member1 as m1, member2 as m2\n",
    "\n",
    "# Usage\n",
    "m1()\n",
    "m2()\n",
    "```\n",
    "\n",
    "**Example:**"
   ]
  },
  {
   "cell_type": "code",
   "execution_count": 6,
   "id": "e87eca95",
   "metadata": {},
   "outputs": [],
   "source": [
    "from datetime import datetime as dt, timedelta as td\n",
    "\n",
    "now = dt.now()\n",
    "tomorrow = now + td(days=1)"
   ]
  },
  {
   "cell_type": "markdown",
   "id": "82296cb5",
   "metadata": {},
   "source": [
    "---\n",
    "\n",
    "## Built-in Modules\n",
    "\n",
    "Python comes with a rich standard library. Here are essential modules for data analytics:\n",
    "\n",
    "### Common Built-in Modules\n",
    "\n",
    "| Module | Purpose | Data Analytics Use |\n",
    "|--------|---------|-------------------|\n",
    "| `math` | Mathematical functions | Statistical calculations |\n",
    "| `random` | Random number generation | Sampling, simulation |\n",
    "| `statistics` | Statistical functions | Mean, median, stdev |\n",
    "| `datetime` | Date and time operations | Time series analysis |\n",
    "| `csv` | CSV file handling | Data import/export |\n",
    "| `json` | JSON data handling | API data processing |\n",
    "| `os` | Operating system interface | File operations |\n",
    "| `sys` | System-specific parameters | Script configuration |\n",
    "| `re` | Regular expressions | Text processing |\n",
    "| `collections` | Specialized containers | Data structures |\n",
    "\n",
    "---\n",
    "## Math Module\n",
    "\n",
    "The `math` module provides mathematical functions for numeric operations.\n",
    "\n",
    "### Key Functions\n",
    "\n",
    "#### 1. `factorial(n)` - Calculate factorial"
   ]
  },
  {
   "cell_type": "code",
   "execution_count": 7,
   "id": "b4fa75a3",
   "metadata": {},
   "outputs": [
    {
     "name": "stdout",
     "output_type": "stream",
     "text": [
      "24\n",
      "120\n",
      "1\n"
     ]
    }
   ],
   "source": [
    "from math import factorial\n",
    "\n",
    "print(factorial(4))  # Output: 24 (4! = 4×3×2×1)\n",
    "print(factorial(5))  # Output: 120\n",
    "print(factorial(0))  # Output: 1 (0! = 1)"
   ]
  },
  {
   "cell_type": "markdown",
   "id": "c0b4cc9a",
   "metadata": {},
   "source": [
    "**Use Case:** Combinatorics, probability calculations\n",
    "\n",
    "#### 2. `sqrt(x)` - Square root"
   ]
  },
  {
   "cell_type": "code",
   "execution_count": 8,
   "id": "3e32695e",
   "metadata": {},
   "outputs": [
    {
     "name": "stdout",
     "output_type": "stream",
     "text": [
      "3.0\n",
      "4.0\n",
      "1.4142135623730951\n"
     ]
    }
   ],
   "source": [
    "from math import sqrt\n",
    "\n",
    "print(sqrt(9))    # Output: 3.0\n",
    "print(sqrt(16))   # Output: 4.0\n",
    "print(sqrt(2))    # Output: 1.4142135623730951\n"
   ]
  },
  {
   "cell_type": "markdown",
   "id": "29c1db55",
   "metadata": {},
   "source": [
    "**Use Case:** Standard deviation, distance calculations\n",
    "\n",
    "#### 3. `ceil(x)` - Round up to nearest integer"
   ]
  },
  {
   "cell_type": "code",
   "execution_count": 9,
   "id": "58b24faf",
   "metadata": {},
   "outputs": [
    {
     "name": "stdout",
     "output_type": "stream",
     "text": [
      "11\n",
      "11\n",
      "-10\n"
     ]
    }
   ],
   "source": [
    "from math import ceil\n",
    "\n",
    "print(ceil(10.1))  # Output: 11\n",
    "print(ceil(10.9))  # Output: 11\n",
    "print(ceil(-10.1)) # Output: -10"
   ]
  },
  {
   "cell_type": "markdown",
   "id": "a259e166",
   "metadata": {},
   "source": [
    "**Use Case:** Compound interest, growth rate calculations\n",
    "\n",
    "### Complete Math Module Example"
   ]
  },
  {
   "cell_type": "code",
   "execution_count": 10,
   "id": "e927475f",
   "metadata": {},
   "outputs": [
    {
     "name": "stdout",
     "output_type": "stream",
     "text": [
      "Factorial of 4: 24\n",
      "Square root of 9: 3.0\n",
      "Floor of 10.9: 10\n",
      "Ceiling of 10.1: 11\n",
      "Absolute of -10.9: 10.9\n",
      "Product of [1,2,3,4]: 24\n",
      "Pi value: 3.141592653589793\n",
      "Euler's number: 2.718281828459045\n"
     ]
    }
   ],
   "source": [
    "from math import *\n",
    "\n",
    "print(f\"Factorial of 4: {factorial(4)}\")          # 24\n",
    "print(f\"Square root of 9: {sqrt(9)}\")             # 3.0\n",
    "print(f\"Floor of 10.9: {floor(10.9)}\")            # 10\n",
    "print(f\"Ceiling of 10.1: {ceil(10.1)}\")           # 11\n",
    "print(f\"Absolute of -10.9: {fabs(-10.9)}\")        # 10.9\n",
    "print(f\"Product of [1,2,3,4]: {prod([1,2,3,4])}\") # 24\n",
    "print(f\"Pi value: {pi}\")                          # 3.14159...\n",
    "print(f\"Euler's number: {e}\")                     # 2.71828..."
   ]
  },
  {
   "cell_type": "markdown",
   "id": "370f340b",
   "metadata": {},
   "source": [
    "## Practical Examples\n",
    "\n",
    "### Example 1: Generate 6-Digit OTP\n",
    "\n",
    "**Problem:** Generate a random 6-digit OTP for user authentication.\n"
   ]
  },
  {
   "cell_type": "code",
   "execution_count": 11,
   "id": "6196c5ff",
   "metadata": {},
   "outputs": [
    {
     "name": "stdout",
     "output_type": "stream",
     "text": [
      "Your OTP is: 298962\n"
     ]
    }
   ],
   "source": [
    "from random import randint\n",
    "\n",
    "def generate_otp():\n",
    "    \"\"\"Generate a 6-digit OTP\"\"\"\n",
    "    otp = ''\n",
    "    for i in range(6):\n",
    "        otp += str(randint(0, 9))\n",
    "    return otp\n",
    "\n",
    "# Generate OTP\n",
    "otp_code = generate_otp()\n",
    "print(f'Your OTP is: {otp_code}')\n",
    "# Output: Your OTP is: 742851 (example)"
   ]
  },
  {
   "cell_type": "markdown",
   "id": "5ae8ff99",
   "metadata": {},
   "source": [
    "### Example 2: Generate Random Password\n",
    "\n",
    "**Problem:** Generate an 8-character password where:\n",
    "- Positions 1, 3, 5, 7: Alphabets (A-Z, a-z)\n",
    "- Positions 2, 4, 6, 8: Digits (0-9)"
   ]
  },
  {
   "cell_type": "code",
   "execution_count": 12,
   "id": "20abbd09",
   "metadata": {},
   "outputs": [
    {
     "name": "stdout",
     "output_type": "stream",
     "text": [
      "Your password is: t4k9g8z2\n"
     ]
    }
   ],
   "source": [
    "from random import randint\n",
    "\n",
    "def generate_password():\n",
    "    \"\"\"Generate 8-character password with alternating letters and digits\"\"\"\n",
    "    password = \"\"\n",
    "    \n",
    "    for i in range(0, 7, 2):  # 0, 2, 4, 6\n",
    "        # Add random lowercase letter (ASCII 97-122)\n",
    "        password += chr(randint(97, 122))\n",
    "        # Add random digit\n",
    "        password += str(randint(0, 9))\n",
    "    \n",
    "    return password\n",
    "\n",
    "# Generate password\n",
    "pwd = generate_password()\n",
    "print(f'Your password is: {pwd}')\n",
    "# Output: Your password is: a7k3m9p2 (example)"
   ]
  },
  {
   "cell_type": "markdown",
   "id": "17e1d10a",
   "metadata": {},
   "source": [
    "## Summary & Key Takeaways\n",
    "\n",
    "### ✅ Remember These Key Points:\n",
    "\n",
    "1. **Modules** = Reusable Python files (.py)\n",
    "2. **Import wisely** - Use aliases for readability\n",
    "3. **math module** - For mathematical operations\n",
    "4. **random module** - For simulations and sampling\n",
    "5. **faker module** - For realistic test data\n",
    "6. **Set random seed** for reproducible results\n",
    "7. **Document functions** for better collaboration\n",
    "\n",
    "---\n",
    "\n",
    "## Additional Resources\n",
    "\n",
    "### Useful Modules for Data Analytics\n",
    "\n",
    "| Module | Purpose | Installation |\n",
    "|--------|---------|--------------|\n",
    "| `pandas` | Data manipulation | `pip install pandas` |\n",
    "| `numpy` | Numerical computing | `pip install numpy` |\n",
    "| `matplotlib` | Data visualization | `pip install matplotlib` |\n",
    "| `seaborn` | Statistical visualization | `pip install seaborn` |\n",
    "| `scikit-learn` | Machine learning | `pip install scikit-learn` |\n",
    "| `faker` | Fake data generation | `pip install faker` |\n",
    "\n",
    "### Quick Reference\n",
    "\n",
    "```python\n",
    "# Import patterns\n",
    "import module                          # Basic\n",
    "import module as alias                 # With alias\n",
    "from module import function            # Specific import\n",
    "from module import *                   # All (use carefully)\n",
    "\n",
    "# Math operations\n",
    "math.sqrt(x), math.factorial(n), math.ceil(x), math.floor(x)\n",
    "\n",
    "# Random operations\n",
    "random.randint(a, b), random.choice(seq), random.sample(seq, k)\n",
    "\n",
    "# Faker operations\n",
    "fake.name(), fake.email(), fake.address(), fake.city()\n",
    "```\n",
    "\n",
    "---"
   ]
  }
 ],
 "metadata": {
  "kernelspec": {
   "display_name": "Python 3",
   "language": "python",
   "name": "python3"
  },
  "language_info": {
   "codemirror_mode": {
    "name": "ipython",
    "version": 3
   },
   "file_extension": ".py",
   "mimetype": "text/x-python",
   "name": "python",
   "nbconvert_exporter": "python",
   "pygments_lexer": "ipython3",
   "version": "3.13.7"
  }
 },
 "nbformat": 4,
 "nbformat_minor": 5
}
