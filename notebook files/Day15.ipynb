{
 "cells": [
  {
   "cell_type": "markdown",
   "id": "258b94aa",
   "metadata": {},
   "source": [
    "#  Python Class Variables and Methods\n",
    "\n",
    "\n",
    "This slides explains the different types of variables and methods used in Python object-oriented programming (OOP). The concepts are illustrated using a **Fruit** class, which demonstrates:\n",
    "\n",
    "- **Instance Variables**\n",
    "- **Class Variables**\n",
    "- **Local Variables**\n",
    "- **Global Variables**\n",
    "- **Instance Methods**\n",
    "- **Class Methods**\n",
    "- **Static Methods**\n",
    "\n",
    "---\n",
    "## 1. Variables in a Python Class\n",
    "\n",
    "### 1.1 Instance Variables\n",
    "\n",
    "**Definition:** Instance variables are variables that are unique to each object. They hold data specific to an instance of a class and are defined inside the constructor (**__init__**).\n",
    "\n",
    "Instance variables are used when different instances need to store different values."
   ]
  },
  {
   "cell_type": "code",
   "execution_count": 1,
   "id": "e4a3b612",
   "metadata": {},
   "outputs": [],
   "source": [
    "class Fruit:\n",
    "    def __init__(self, name, shape, color):\n",
    "        self.name = name  # Instance Variable\n",
    "        self.shape = shape\n",
    "        self.color = color"
   ]
  },
  {
   "cell_type": "markdown",
   "id": "89f59b82",
   "metadata": {},
   "source": [
    "**Usage:**"
   ]
  },
  {
   "cell_type": "code",
   "execution_count": 2,
   "id": "ddbcaa75",
   "metadata": {},
   "outputs": [
    {
     "name": "stdout",
     "output_type": "stream",
     "text": [
      "Apple\n",
      "Banana\n"
     ]
    }
   ],
   "source": [
    "fruit_1 = Fruit(\"Apple\", \"Round\", \"Red\")\n",
    "fruit_2 = Fruit(\"Banana\", \"Long\", \"Yellow\")\n",
    "print(fruit_1.name)  # Output: Apple\n",
    "print(fruit_2.name)  # Output: Banana"
   ]
  },
  {
   "cell_type": "markdown",
   "id": "d6234dd2",
   "metadata": {},
   "source": [
    "---\n",
    "### 1.2 Class Variables\n",
    "\n",
    "**Definition:** Class variables are shared across all instances of a class. They are defined outside any method but inside the class and belong to the class itself rather than any specific instance.\n",
    "\n",
    "These variables are the same for every instance unless explicitly changed using a class method."
   ]
  },
  {
   "cell_type": "code",
   "execution_count": 3,
   "id": "4f9b85b7",
   "metadata": {},
   "outputs": [],
   "source": [
    "class Fruit:\n",
    "    category = \"Edible\"  # Class Variable\n",
    "    fruit_count = 0  # Keeps track of instances"
   ]
  },
  {
   "cell_type": "markdown",
   "id": "11c58242",
   "metadata": {},
   "source": [
    "**Usage:**"
   ]
  },
  {
   "cell_type": "code",
   "execution_count": 4,
   "id": "79459d6e",
   "metadata": {},
   "outputs": [
    {
     "name": "stdout",
     "output_type": "stream",
     "text": [
      "Edible\n",
      "0\n"
     ]
    }
   ],
   "source": [
    "print(Fruit.category)  # Output: Edible\n",
    "print(Fruit.fruit_count)  # Output: 2 \n",
    "                         # (if two instances were created)"
   ]
  },
  {
   "cell_type": "markdown",
   "id": "9b29e576",
   "metadata": {},
   "source": [
    "---\n",
    "### 1.3 Local Variables\n",
    "\n",
    "**Definition:** Local variables are declared inside a method or function and can only be accessed within that scope."
   ]
  },
  {
   "cell_type": "code",
   "execution_count": 5,
   "id": "ee8314e1",
   "metadata": {},
   "outputs": [],
   "source": [
    "def example_function():\n",
    "    message = \"Hello, World!\"  # Local Variable\n",
    "    print(message)"
   ]
  },
  {
   "cell_type": "markdown",
   "id": "ac0e3e53",
   "metadata": {},
   "source": [
    "**Usage:**"
   ]
  },
  {
   "cell_type": "code",
   "execution_count": null,
   "id": "29e75324",
   "metadata": {},
   "outputs": [],
   "source": [
    "example_function()  # Output: Hello, World!\n",
    "# print(message)  # ❌ Error: message is not \n",
    "                  # defined outside the function"
   ]
  },
  {
   "cell_type": "markdown",
   "id": "9771310d",
   "metadata": {},
   "source": [
    "---\n",
    "### 1.4 Global Variables\n",
    "\n",
    "**Definition:** Global variables are defined outside functions and can be accessed from any part of the code."
   ]
  },
  {
   "cell_type": "code",
   "execution_count": 6,
   "id": "b704738d",
   "metadata": {},
   "outputs": [],
   "source": [
    "global_var = \"I am global\"\n",
    "\n",
    "def access_global():\n",
    "    print(global_var)  # Accessing global variable"
   ]
  },
  {
   "cell_type": "markdown",
   "id": "7dfbb172",
   "metadata": {},
   "source": [
    "**Usage:**"
   ]
  },
  {
   "cell_type": "code",
   "execution_count": null,
   "id": "e12e7a4e",
   "metadata": {},
   "outputs": [],
   "source": [
    "access_global()  # Output: I am global"
   ]
  },
  {
   "cell_type": "markdown",
   "id": "c37629a2",
   "metadata": {},
   "source": [
    "---\n",
    "To modify a global variable inside a function, use the **global** keyword:"
   ]
  },
  {
   "cell_type": "code",
   "execution_count": 7,
   "id": "ec42f48f",
   "metadata": {},
   "outputs": [],
   "source": [
    "def modify_global():\n",
    "    global global_var\n",
    "    global_var = \"Modified global variable\""
   ]
  },
  {
   "cell_type": "markdown",
   "id": "b98ac3d7",
   "metadata": {},
   "source": [
    "---\n",
    "## 2. Types of Methods in a Python Class\n",
    "\n",
    "### 2.1 Instance Methods\n",
    "\n",
    "**Definition:** Instance methods operate on instance variables. They have access to instance data and can also access class variables. They require **self** as the first argument.\n",
    "\n",
    "```python\n",
    "def display_info(self):\n",
    "    print(f\"Fruit: {self.name}, \n",
    "            Shape: {self.shape}, \n",
    "            Color: {self.color}, \n",
    "            Category: {Fruit.category}\")\n",
    "```\n",
    "---\n",
    "**Usage:**\n",
    "\n",
    "```python\n",
    "fruit_1.display_info()\n",
    "fruit_2.display_info()\n",
    "```\n",
    "\n",
    "### 2.2 Class Methods\n",
    "\n",
    "**Definition:** Class methods work with class variables. They use **cls** as the first argument and can modify class-level data. They are defined using the **@classmethod** decorator.\n",
    "\n",
    "```python\n",
    "@classmethod\n",
    "def modify_category(cls, new_category):\n",
    "    cls.category = new_category\n",
    "```\n",
    "---\n",
    "**Usage:**\n",
    "\n",
    "```python\n",
    "Fruit.modify_category(\"Organic\")\n",
    "print(Fruit.category)  # Output: Organic\n",
    "```\n",
    "\n",
    "### 2.3 Static Methods\n",
    "\n",
    "**Definition:** Static methods are utility functions that neither access nor modify instance or class variables. They are independent methods defined using the **@staticmethod** decorator.\n",
    "\n",
    "```python\n",
    "@staticmethod\n",
    "def general_info():\n",
    "    print(\"Fruits are nutritious and healthy!\")\n",
    "```\n",
    "---\n",
    "**Usage:**\n",
    "\n",
    "```python\n",
    "Fruit.general_info()\n",
    "fruit_1.general_info()\n",
    "```\n",
    "---\n",
    "## 3. Summary Table\n",
    "\n",
    "| Type                | Access Instance Variables | Access Class Variables | Requires **self/cls** | Decorator       |\n",
    "| ------------------- | ------------------------- | ---------------------- | --------------------- | --------------- |\n",
    "| **Instance Method** | ✅ Yes                     | ✅ Yes                  | `self`                | None            |\n",
    "| **Class Method**    | ❌ No                      | ✅ Yes                  | `cls`                 | `@classmethod`  |\n",
    "| **Static Method**   | ❌ No                      | ❌ No                   | None                  | `@staticmethod` |\n",
    "---\n",
    "## 4. Key Differences Between **self**, **cls**, Local, and Global Variables\n",
    "\n",
    "| Concept         | Definition                           | Access Scope                           | Example                             |\n",
    "| --------------- | ------------------------------------ | -------------------------------------- | ----------------------------------- |\n",
    "| `self`          | Represents the instance of the class | Used inside instance methods           | `self.name`                         |\n",
    "| `cls`           | Represents the class itself          | Used inside class methods              | `cls.category`                      |\n",
    "| Local Variable  | Defined inside a method/function     | Accessible only within that function   | `message = \"Hello\"` inside function |\n",
    "| Global Variable | Defined outside all functions        | Accessible from anywhere in the script | `global_var = \"Hello\"`              |\n",
    "\n",
    "---\n",
    "## 5. Full Code Implementation"
   ]
  },
  {
   "cell_type": "code",
   "execution_count": 2,
   "id": "fb9beb17",
   "metadata": {},
   "outputs": [
    {
     "name": "stdout",
     "output_type": "stream",
     "text": [
      "Fruit: Apple, Shape: Round, Color: Red, Category: Edible\n",
      "Fruit: Banana, Shape: Long, Color: Yellow, Category: Edible\n",
      "Fruits are nutritious and healthy!\n",
      "Updated Category: Organic\n"
     ]
    }
   ],
   "source": [
    "class Fruit:\n",
    "    category = \"Edible\" # Class Variables\n",
    "    fruit_count = 0 # static variable\n",
    "\n",
    "    def __init__(self, name, shape, color):\n",
    "        self.name = name\n",
    "        self.shape = shape\n",
    "        self.color = color\n",
    "        Fruit.fruit_count += 1\n",
    "\n",
    "    def display_info(self):\n",
    "        print(f\"Fruit: {self.name}, Shape: {self.shape}, Color: {self.color}, Category: {Fruit.category}\")\n",
    "    \n",
    "    @staticmethod\n",
    "    def general_info():\n",
    "        print(\"Fruits are nutritious and healthy!\")\n",
    "\n",
    "    @classmethod\n",
    "    def modify_category(cls,new_category):\n",
    "        cls.category = new_category\n",
    "        print(f\"Updated Category: {cls.category}\")\n",
    "\n",
    "        # Creating instances\n",
    "fruit_1 = Fruit(\"Apple\", \"Round\", \"Red\")\n",
    "fruit_2 = Fruit(\"Banana\", \"Long\", \"Yellow\")\n",
    "\n",
    "# Calling methods\n",
    "fruit_1.display_info()\n",
    "fruit_2.display_info()\n",
    "Fruit.general_info()\n",
    "Fruit.modify_category(\"Organic\")"
   ]
  },
  {
   "cell_type": "markdown",
   "id": "8b1c8870",
   "metadata": {},
   "source": [
    "## 6. Key Takeaways\n",
    "\n",
    "✅ **Instance Variables** store data unique to each object. ✅ **Class Variables** store data shared across all objects. ✅ **Local Variables** exist only within a function/method. ✅ **Global Variables** exist throughout the script. ✅ **Instance Methods** work with object-specific data. ✅ **Class Methods** work with class-wide data. ✅ **Static Methods** provide independent utility functions.\n",
    "\n",
    "## 7. Additional Notes\n",
    "\n",
    "- **Instance methods** require an instance to be called.\n",
    "- **Class methods** can modify class variables using **cls**.\n",
    "- **Static methods** are useful for utility functions that don't need access to instance/class data.\n",
    "\n",
    "---\n",
    "## 8. Error Handling Example\n",
    "\n",
    "❌ **Calling an instance method using the class directly will cause an error:**\n",
    "\n",
    "```python\n",
    "Fruit.display_info()  # TypeError: missing 1 required positional argument: 'self'\n",
    "```\n",
    "\n",
    "Use an **instance** instead:\n",
    "\n",
    "```python\n",
    "fruit_1.display_info()  # ✅ Works fine"
   ]
  }
 ],
 "metadata": {
  "kernelspec": {
   "display_name": "Python 3",
   "language": "python",
   "name": "python3"
  },
  "language_info": {
   "codemirror_mode": {
    "name": "ipython",
    "version": 3
   },
   "file_extension": ".py",
   "mimetype": "text/x-python",
   "name": "python",
   "nbconvert_exporter": "python",
   "pygments_lexer": "ipython3",
   "version": "3.13.9"
  }
 },
 "nbformat": 4,
 "nbformat_minor": 5
}
