{
 "cells": [
  {
   "cell_type": "code",
   "execution_count": 1,
   "metadata": {},
   "outputs": [],
   "source": [
    "# import collections\n",
    "from collections import deque"
   ]
  },
  {
   "cell_type": "code",
   "execution_count": null,
   "metadata": {},
   "outputs": [],
   "source": [
    "# Queue \n",
    "\n",
    "\n",
    "[1,2,3,4,5,6]"
   ]
  },
  {
   "cell_type": "code",
   "execution_count": 4,
   "metadata": {},
   "outputs": [],
   "source": [
    "que = deque([1,2,3,4,5,6,7,8])"
   ]
  },
  {
   "cell_type": "code",
   "execution_count": 6,
   "metadata": {},
   "outputs": [
    {
     "data": {
      "text/plain": [
       "deque([0, 1, 2, 3, 4, 5, 6, 7, 8, 10, 10])"
      ]
     },
     "execution_count": 6,
     "metadata": {},
     "output_type": "execute_result"
    }
   ],
   "source": [
    "que.append(10)\n",
    "que.appendleft(0)\n"
   ]
  },
  {
   "cell_type": "code",
   "execution_count": 7,
   "metadata": {},
   "outputs": [
    {
     "data": {
      "text/plain": [
       "deque([10, 10, 0, 1, 2, 3, 4, 5, 6, 7, 8])"
      ]
     },
     "execution_count": 7,
     "metadata": {},
     "output_type": "execute_result"
    }
   ],
   "source": [
    "que.rotate(2)\n",
    "que"
   ]
  },
  {
   "cell_type": "code",
   "execution_count": null,
   "metadata": {},
   "outputs": [],
   "source": [
    "('topic1','topic2','topic3','topic4')"
   ]
  },
  {
   "cell_type": "code",
   "execution_count": 7,
   "metadata": {},
   "outputs": [
    {
     "data": {
      "text/plain": [
       "__main__.Python"
      ]
     },
     "execution_count": 7,
     "metadata": {},
     "output_type": "execute_result"
    }
   ],
   "source": [
    "import collections\n",
    "\n",
    "# ('topic1','topic2','topic3','topic4')\n",
    "\n",
    "s=collections.namedtuple('Python', ('topic1','topic2','topic3','topic4'))\n",
    "s\n"
   ]
  },
  {
   "cell_type": "code",
   "execution_count": 5,
   "metadata": {},
   "outputs": [
    {
     "name": "stdout",
     "output_type": "stream",
     "text": [
      "Python(topic1='List', topic2='Tuple', topic3='Multithreading', topic4='Object Orientation')\n"
     ]
    }
   ],
   "source": [
    "s1=s('List','Tuple','Multithreading','Object Orientation')\n",
    "print(s1)"
   ]
  },
  {
   "cell_type": "code",
   "execution_count": 9,
   "metadata": {},
   "outputs": [
    {
     "data": {
      "text/plain": [
       "'List'"
      ]
     },
     "execution_count": 9,
     "metadata": {},
     "output_type": "execute_result"
    }
   ],
   "source": [
    "s1.topic1"
   ]
  },
  {
   "cell_type": "code",
   "execution_count": 8,
   "metadata": {},
   "outputs": [
    {
     "data": {
      "text/plain": [
       "'List'"
      ]
     },
     "execution_count": 8,
     "metadata": {},
     "output_type": "execute_result"
    }
   ],
   "source": [
    "s1[0] "
   ]
  },
  {
   "cell_type": "code",
   "execution_count": 11,
   "metadata": {},
   "outputs": [
    {
     "name": "stdout",
     "output_type": "stream",
     "text": [
      "{1: 'a', 2: 'b', 3: 'c'}\n"
     ]
    }
   ],
   "source": [
    "d={1:'a',2:'b',3:'c'}\n",
    "print(d)\n",
    "\n",
    "from collections import *\n",
    "\n",
    "od=OrderedDict()\n"
   ]
  },
  {
   "cell_type": "code",
   "execution_count": 12,
   "metadata": {},
   "outputs": [
    {
     "name": "stdout",
     "output_type": "stream",
     "text": [
      "OrderedDict()\n",
      "<class 'collections.OrderedDict'>\n",
      "OrderedDict({'fruit1': 'apple', 2: 'b', 3: 'c'})\n"
     ]
    }
   ],
   "source": [
    "print(od)\n",
    "print(type(od))\n",
    "od['fruit1']='apple'\n",
    "od[2]='b'\n",
    "od[3]='c'\n",
    "print(od)"
   ]
  },
  {
   "cell_type": "code",
   "execution_count": 13,
   "metadata": {},
   "outputs": [
    {
     "data": {
      "text/plain": [
       "'apple'"
      ]
     },
     "execution_count": 13,
     "metadata": {},
     "output_type": "execute_result"
    }
   ],
   "source": [
    "od['fruit1']"
   ]
  },
  {
   "cell_type": "code",
   "execution_count": 14,
   "metadata": {},
   "outputs": [],
   "source": [
    "od.move_to_end('fruit1')"
   ]
  },
  {
   "cell_type": "code",
   "execution_count": 15,
   "metadata": {},
   "outputs": [
    {
     "data": {
      "text/plain": [
       "OrderedDict([(2, 'b'), (3, 'c'), ('fruit1', 'apple')])"
      ]
     },
     "execution_count": 15,
     "metadata": {},
     "output_type": "execute_result"
    }
   ],
   "source": [
    "od"
   ]
  },
  {
   "cell_type": "code",
   "execution_count": 18,
   "metadata": {},
   "outputs": [
    {
     "name": "stdout",
     "output_type": "stream",
     "text": [
      "{'a': 1}\n",
      "{'a': 1, 'e': 1}\n",
      "{'a': 1, 'e': 1, 'r': 1}\n",
      "{'a': 1, 'e': 1, 'r': 1, 'o': 1}\n",
      "{'a': 1, 'e': 1, 'r': 1, 'o': 1, 'p': 1}\n",
      "{'a': 1, 'e': 1, 'r': 1, 'o': 1, 'p': 1, 'l': 1}\n",
      "{'a': 2, 'e': 1, 'r': 1, 'o': 1, 'p': 1, 'l': 1}\n",
      "{'a': 2, 'e': 1, 'r': 1, 'o': 1, 'p': 1, 'l': 1, 'n': 1}\n",
      "{'a': 2, 'e': 2, 'r': 1, 'o': 1, 'p': 1, 'l': 1, 'n': 1}\n"
     ]
    },
    {
     "data": {
      "text/plain": [
       "{'a': 2, 'e': 2, 'r': 1, 'o': 1, 'p': 1, 'l': 1, 'n': 1}"
      ]
     },
     "execution_count": 18,
     "metadata": {},
     "output_type": "execute_result"
    }
   ],
   "source": [
    "# WAP to print no of occurance of the characters in the given word\n",
    "\n",
    "words = \"aeroplane\"\n",
    "res = {}\n",
    "\n",
    "for char in words:\n",
    "    if char not in res:\n",
    "        res[char] = 1\n",
    "    else:\n",
    "        res[char] += 1\n",
    "    print(res)\n",
    "\n",
    "res"
   ]
  },
  {
   "cell_type": "code",
   "execution_count": 21,
   "metadata": {},
   "outputs": [
    {
     "data": {
      "text/plain": [
       "[('a', 2), ('e', 2)]"
      ]
     },
     "execution_count": 21,
     "metadata": {},
     "output_type": "execute_result"
    }
   ],
   "source": [
    "from collections import Counter\n",
    "\n",
    "res = Counter(words)\n",
    "\n",
    "res.most_common(2)\n",
    "# res"
   ]
  },
  {
   "cell_type": "code",
   "execution_count": 6,
   "metadata": {},
   "outputs": [],
   "source": [
    "food={'milk':100,'chips':50,'chocolates':200}\n",
    "clothes={'shirts':150,'pants':100,'T-shirt':75}"
   ]
  },
  {
   "cell_type": "code",
   "execution_count": 8,
   "metadata": {},
   "outputs": [
    {
     "data": {
      "text/plain": [
       "{'milk': 100,\n",
       " 'chips': 50,\n",
       " 'chocolates': 200,\n",
       " 'shirts': 150,\n",
       " 'pants': 100,\n",
       " 'T-shirt': 75}"
      ]
     },
     "execution_count": 8,
     "metadata": {},
     "output_type": "execute_result"
    }
   ],
   "source": [
    "invtemp = {**food, **clothes}\n",
    "invtemp"
   ]
  },
  {
   "cell_type": "code",
   "execution_count": 10,
   "metadata": {},
   "outputs": [
    {
     "data": {
      "text/plain": [
       "{'milk': 100,\n",
       " 'chips': 500,\n",
       " 'chocolates': 200,\n",
       " 'shirts': 150,\n",
       " 'pants': 100,\n",
       " 'T-shirt': 75}"
      ]
     },
     "execution_count": 10,
     "metadata": {},
     "output_type": "execute_result"
    }
   ],
   "source": [
    "invtemp['chips'] = 500\n",
    "invtemp"
   ]
  },
  {
   "cell_type": "code",
   "execution_count": 11,
   "metadata": {},
   "outputs": [
    {
     "data": {
      "text/plain": [
       "{'milk': 100, 'chips': 50, 'chocolates': 200}"
      ]
     },
     "execution_count": 11,
     "metadata": {},
     "output_type": "execute_result"
    }
   ],
   "source": [
    "food"
   ]
  },
  {
   "cell_type": "code",
   "execution_count": 1,
   "metadata": {},
   "outputs": [],
   "source": [
    "from collections import ChainMap\n",
    "\n",
    "food={'milk':100,'chips':50,'chocolates':200}\n",
    "clothes={'shirts':150,'pants':100,'T-shirt':75}\n",
    "electronic={'mobile':100,'laptop':50}\n",
    "\n",
    "inv=ChainMap(food,clothes,electronic)"
   ]
  },
  {
   "cell_type": "code",
   "execution_count": 4,
   "metadata": {},
   "outputs": [
    {
     "data": {
      "text/plain": [
       "ChainMap({'milk': 100, 'chips': 500, 'chocolates': 200}, {'shirts': 150, 'pants': 100, 'T-shirt': 75}, {'mobile': 100, 'laptop': 50})"
      ]
     },
     "execution_count": 4,
     "metadata": {},
     "output_type": "execute_result"
    }
   ],
   "source": [
    "inv['chips'] = 500\n",
    "inv"
   ]
  },
  {
   "cell_type": "code",
   "execution_count": 5,
   "metadata": {},
   "outputs": [
    {
     "data": {
      "text/plain": [
       "{'milk': 100, 'chips': 500, 'chocolates': 200}"
      ]
     },
     "execution_count": 5,
     "metadata": {},
     "output_type": "execute_result"
    }
   ],
   "source": [
    "food"
   ]
  }
 ],
 "metadata": {
  "kernelspec": {
   "display_name": "Python 3",
   "language": "python",
   "name": "python3"
  },
  "language_info": {
   "codemirror_mode": {
    "name": "ipython",
    "version": 3
   },
   "file_extension": ".py",
   "mimetype": "text/x-python",
   "name": "python",
   "nbconvert_exporter": "python",
   "pygments_lexer": "ipython3",
   "version": "3.13.1"
  }
 },
 "nbformat": 4,
 "nbformat_minor": 2
}
